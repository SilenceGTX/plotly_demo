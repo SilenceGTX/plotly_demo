{
 "cells": [
  {
   "cell_type": "code",
   "execution_count": 1,
   "metadata": {
    "collapsed": true
   },
   "outputs": [],
   "source": [
    "import numpy as np\n",
    "import pandas as pd\n",
    "import matplotlib.pyplot as plt\n",
    "%matplotlib inline"
   ]
  },
  {
   "cell_type": "code",
   "execution_count": 2,
   "metadata": {},
   "outputs": [
    {
     "data": {
      "text/html": [
       "<script>requirejs.config({paths: { 'plotly': ['https://cdn.plot.ly/plotly-latest.min']},});if(!window.Plotly) {{require(['plotly'],function(plotly) {window.Plotly=plotly;});}}</script>"
      ],
      "text/vnd.plotly.v1+html": [
       "<script>requirejs.config({paths: { 'plotly': ['https://cdn.plot.ly/plotly-latest.min']},});if(!window.Plotly) {{require(['plotly'],function(plotly) {window.Plotly=plotly;});}}</script>"
      ]
     },
     "metadata": {},
     "output_type": "display_data"
    }
   ],
   "source": [
    "import plotly\n",
    "from plotly.offline import download_plotlyjs, init_notebook_mode, plot, iplot\n",
    "import plotly.graph_objs as go\n",
    "from plotly import tools\n",
    "init_notebook_mode(connected=True)"
   ]
  },
  {
   "cell_type": "markdown",
   "metadata": {},
   "source": [
    "## 1. 创建数据"
   ]
  },
  {
   "cell_type": "markdown",
   "metadata": {},
   "source": [
    "通常来说我们在展示时最常用的主要是线图、条形图和地图。在此我们创建2组用于演示的数据，一组是时间序列相关的2列信号数据（A和B），另一组是地理位置相关的数据（经纬度），我们在plotly上的作图主要基于这两组演示数据。"
   ]
  },
  {
   "cell_type": "code",
   "execution_count": 3,
   "metadata": {},
   "outputs": [],
   "source": [
    "df = pd.DataFrame({'A':[2, 1, 5, 1, 3, 2, 4, 7, 8, 6, 5, 4, 7, 6, 3], \n",
    "                   'B':[1, 4, 2, 6, 4, 3, 5, 6, 8, 7, 6, 5, 3, 1, 1]})\n",
    "df.index = pd.date_range('2019/02/04', periods = 15)"
   ]
  },
  {
   "cell_type": "code",
   "execution_count": 4,
   "metadata": {},
   "outputs": [
    {
     "data": {
      "text/html": [
       "<div>\n",
       "<style>\n",
       "    .dataframe thead tr:only-child th {\n",
       "        text-align: right;\n",
       "    }\n",
       "\n",
       "    .dataframe thead th {\n",
       "        text-align: left;\n",
       "    }\n",
       "\n",
       "    .dataframe tbody tr th {\n",
       "        vertical-align: top;\n",
       "    }\n",
       "</style>\n",
       "<table border=\"1\" class=\"dataframe\">\n",
       "  <thead>\n",
       "    <tr style=\"text-align: right;\">\n",
       "      <th></th>\n",
       "      <th>A</th>\n",
       "      <th>B</th>\n",
       "    </tr>\n",
       "  </thead>\n",
       "  <tbody>\n",
       "    <tr>\n",
       "      <th>2019-02-04</th>\n",
       "      <td>2</td>\n",
       "      <td>1</td>\n",
       "    </tr>\n",
       "    <tr>\n",
       "      <th>2019-02-05</th>\n",
       "      <td>1</td>\n",
       "      <td>4</td>\n",
       "    </tr>\n",
       "    <tr>\n",
       "      <th>2019-02-06</th>\n",
       "      <td>5</td>\n",
       "      <td>2</td>\n",
       "    </tr>\n",
       "    <tr>\n",
       "      <th>2019-02-07</th>\n",
       "      <td>1</td>\n",
       "      <td>6</td>\n",
       "    </tr>\n",
       "    <tr>\n",
       "      <th>2019-02-08</th>\n",
       "      <td>3</td>\n",
       "      <td>4</td>\n",
       "    </tr>\n",
       "    <tr>\n",
       "      <th>2019-02-09</th>\n",
       "      <td>2</td>\n",
       "      <td>3</td>\n",
       "    </tr>\n",
       "    <tr>\n",
       "      <th>2019-02-10</th>\n",
       "      <td>4</td>\n",
       "      <td>5</td>\n",
       "    </tr>\n",
       "    <tr>\n",
       "      <th>2019-02-11</th>\n",
       "      <td>7</td>\n",
       "      <td>6</td>\n",
       "    </tr>\n",
       "    <tr>\n",
       "      <th>2019-02-12</th>\n",
       "      <td>8</td>\n",
       "      <td>8</td>\n",
       "    </tr>\n",
       "    <tr>\n",
       "      <th>2019-02-13</th>\n",
       "      <td>6</td>\n",
       "      <td>7</td>\n",
       "    </tr>\n",
       "    <tr>\n",
       "      <th>2019-02-14</th>\n",
       "      <td>5</td>\n",
       "      <td>6</td>\n",
       "    </tr>\n",
       "    <tr>\n",
       "      <th>2019-02-15</th>\n",
       "      <td>4</td>\n",
       "      <td>5</td>\n",
       "    </tr>\n",
       "    <tr>\n",
       "      <th>2019-02-16</th>\n",
       "      <td>7</td>\n",
       "      <td>3</td>\n",
       "    </tr>\n",
       "    <tr>\n",
       "      <th>2019-02-17</th>\n",
       "      <td>6</td>\n",
       "      <td>1</td>\n",
       "    </tr>\n",
       "    <tr>\n",
       "      <th>2019-02-18</th>\n",
       "      <td>3</td>\n",
       "      <td>1</td>\n",
       "    </tr>\n",
       "  </tbody>\n",
       "</table>\n",
       "</div>"
      ],
      "text/plain": [
       "            A  B\n",
       "2019-02-04  2  1\n",
       "2019-02-05  1  4\n",
       "2019-02-06  5  2\n",
       "2019-02-07  1  6\n",
       "2019-02-08  3  4\n",
       "2019-02-09  2  3\n",
       "2019-02-10  4  5\n",
       "2019-02-11  7  6\n",
       "2019-02-12  8  8\n",
       "2019-02-13  6  7\n",
       "2019-02-14  5  6\n",
       "2019-02-15  4  5\n",
       "2019-02-16  7  3\n",
       "2019-02-17  6  1\n",
       "2019-02-18  3  1"
      ]
     },
     "execution_count": 4,
     "metadata": {},
     "output_type": "execute_result"
    }
   ],
   "source": [
    "df"
   ]
  },
  {
   "cell_type": "code",
   "execution_count": 5,
   "metadata": {
    "collapsed": true
   },
   "outputs": [],
   "source": [
    "geo_df = pd.DataFrame({'lat':[-37.808599, -37.799382, -37.862162, -37.853650, -37.771296], \n",
    "                       'lon':[144.964603, 144.982275, 144.992144, 144.872850, 144.944900],\n",
    "                       'name':['Target A', 'Target B', 'Target C', 'Target D', 'Target E']})"
   ]
  },
  {
   "cell_type": "code",
   "execution_count": 6,
   "metadata": {},
   "outputs": [
    {
     "data": {
      "text/html": [
       "<div>\n",
       "<style>\n",
       "    .dataframe thead tr:only-child th {\n",
       "        text-align: right;\n",
       "    }\n",
       "\n",
       "    .dataframe thead th {\n",
       "        text-align: left;\n",
       "    }\n",
       "\n",
       "    .dataframe tbody tr th {\n",
       "        vertical-align: top;\n",
       "    }\n",
       "</style>\n",
       "<table border=\"1\" class=\"dataframe\">\n",
       "  <thead>\n",
       "    <tr style=\"text-align: right;\">\n",
       "      <th></th>\n",
       "      <th>lat</th>\n",
       "      <th>lon</th>\n",
       "      <th>name</th>\n",
       "    </tr>\n",
       "  </thead>\n",
       "  <tbody>\n",
       "    <tr>\n",
       "      <th>0</th>\n",
       "      <td>-37.808599</td>\n",
       "      <td>144.964603</td>\n",
       "      <td>Target A</td>\n",
       "    </tr>\n",
       "    <tr>\n",
       "      <th>1</th>\n",
       "      <td>-37.799382</td>\n",
       "      <td>144.982275</td>\n",
       "      <td>Target B</td>\n",
       "    </tr>\n",
       "    <tr>\n",
       "      <th>2</th>\n",
       "      <td>-37.862162</td>\n",
       "      <td>144.992144</td>\n",
       "      <td>Target C</td>\n",
       "    </tr>\n",
       "    <tr>\n",
       "      <th>3</th>\n",
       "      <td>-37.853650</td>\n",
       "      <td>144.872850</td>\n",
       "      <td>Target D</td>\n",
       "    </tr>\n",
       "    <tr>\n",
       "      <th>4</th>\n",
       "      <td>-37.771296</td>\n",
       "      <td>144.944900</td>\n",
       "      <td>Target E</td>\n",
       "    </tr>\n",
       "  </tbody>\n",
       "</table>\n",
       "</div>"
      ],
      "text/plain": [
       "         lat         lon      name\n",
       "0 -37.808599  144.964603  Target A\n",
       "1 -37.799382  144.982275  Target B\n",
       "2 -37.862162  144.992144  Target C\n",
       "3 -37.853650  144.872850  Target D\n",
       "4 -37.771296  144.944900  Target E"
      ]
     },
     "execution_count": 6,
     "metadata": {},
     "output_type": "execute_result"
    }
   ],
   "source": [
    "geo_df"
   ]
  },
  {
   "cell_type": "markdown",
   "metadata": {},
   "source": [
    "## 2. 线图 (Line plots)"
   ]
  },
  {
   "cell_type": "markdown",
   "metadata": {},
   "source": [
    "### 2.1 单线图"
   ]
  },
  {
   "cell_type": "code",
   "execution_count": 7,
   "metadata": {},
   "outputs": [
    {
     "data": {
      "application/vnd.plotly.v1+json": {
       "data": [
        {
         "name": "Signal A",
         "type": "scatter",
         "uid": "8201d258-5935-11e9-a163-c8d3ffec4c05",
         "x": [
          "2019-02-04",
          "2019-02-05",
          "2019-02-06",
          "2019-02-07",
          "2019-02-08",
          "2019-02-09",
          "2019-02-10",
          "2019-02-11",
          "2019-02-12",
          "2019-02-13",
          "2019-02-14",
          "2019-02-15",
          "2019-02-16",
          "2019-02-17",
          "2019-02-18"
         ],
         "y": [
          2,
          1,
          5,
          1,
          3,
          2,
          4,
          7,
          8,
          6,
          5,
          4,
          7,
          6,
          3
         ]
        }
       ],
       "layout": {}
      },
      "text/html": [
       "<div id=\"e8736af9-082b-4a02-8dac-6e344c400154\" style=\"height: 525px; width: 100%;\" class=\"plotly-graph-div\"></div><script type=\"text/javascript\">require([\"plotly\"], function(Plotly) { window.PLOTLYENV=window.PLOTLYENV || {};window.PLOTLYENV.BASE_URL=\"https://plot.ly\";\n",
       "        Plotly.plot(\n",
       "            'e8736af9-082b-4a02-8dac-6e344c400154',\n",
       "            [{\"name\": \"Signal A\", \"x\": [\"2019-02-04\", \"2019-02-05\", \"2019-02-06\", \"2019-02-07\", \"2019-02-08\", \"2019-02-09\", \"2019-02-10\", \"2019-02-11\", \"2019-02-12\", \"2019-02-13\", \"2019-02-14\", \"2019-02-15\", \"2019-02-16\", \"2019-02-17\", \"2019-02-18\"], \"y\": [2.0, 1.0, 5.0, 1.0, 3.0, 2.0, 4.0, 7.0, 8.0, 6.0, 5.0, 4.0, 7.0, 6.0, 3.0], \"type\": \"scatter\", \"uid\": \"8201d258-5935-11e9-a163-c8d3ffec4c05\"}],\n",
       "            {},\n",
       "            {\"showLink\": true, \"linkText\": \"Export to plot.ly\"}\n",
       "        ).then(function () {return Plotly.addFrames('e8736af9-082b-4a02-8dac-6e344c400154',{});}).then(function(){Plotly.animate('e8736af9-082b-4a02-8dac-6e344c400154');})\n",
       "        });</script>"
      ],
      "text/vnd.plotly.v1+html": [
       "<div id=\"e8736af9-082b-4a02-8dac-6e344c400154\" style=\"height: 525px; width: 100%;\" class=\"plotly-graph-div\"></div><script type=\"text/javascript\">require([\"plotly\"], function(Plotly) { window.PLOTLYENV=window.PLOTLYENV || {};window.PLOTLYENV.BASE_URL=\"https://plot.ly\";\n",
       "        Plotly.plot(\n",
       "            'e8736af9-082b-4a02-8dac-6e344c400154',\n",
       "            [{\"name\": \"Signal A\", \"x\": [\"2019-02-04\", \"2019-02-05\", \"2019-02-06\", \"2019-02-07\", \"2019-02-08\", \"2019-02-09\", \"2019-02-10\", \"2019-02-11\", \"2019-02-12\", \"2019-02-13\", \"2019-02-14\", \"2019-02-15\", \"2019-02-16\", \"2019-02-17\", \"2019-02-18\"], \"y\": [2.0, 1.0, 5.0, 1.0, 3.0, 2.0, 4.0, 7.0, 8.0, 6.0, 5.0, 4.0, 7.0, 6.0, 3.0], \"type\": \"scatter\", \"uid\": \"8201d258-5935-11e9-a163-c8d3ffec4c05\"}],\n",
       "            {},\n",
       "            {\"showLink\": true, \"linkText\": \"Export to plot.ly\"}\n",
       "        ).then(function () {return Plotly.addFrames('e8736af9-082b-4a02-8dac-6e344c400154',{});}).then(function(){Plotly.animate('e8736af9-082b-4a02-8dac-6e344c400154');})\n",
       "        });</script>"
      ]
     },
     "metadata": {},
     "output_type": "display_data"
    }
   ],
   "source": [
    "# 此处我们利用go.Scatter来绘制线图，它默认包含数据点以及数据点之间的连线\n",
    "trace_1 = go.Scatter(\n",
    "    x = df.index,\n",
    "    y = df['A'],\n",
    "    name = 'Signal A') # 我们在这里创建一个trace，其中包含了我们需要绘制的数据，我们需要分别指定x和y，name用于命名，如'Signal A'\n",
    "\n",
    "fig = go.Figure(data=[trace_1]) # go.Figure用于把所有内容放在画布上，我们不仅可以指定数据(data)，还能指定布局(layout)\n",
    "\n",
    "plotly.offline.iplot(fig) # 绘制"
   ]
  },
  {
   "cell_type": "markdown",
   "metadata": {
    "collapsed": true
   },
   "source": [
    "### 2.2 双线同图"
   ]
  },
  {
   "cell_type": "code",
   "execution_count": 8,
   "metadata": {},
   "outputs": [
    {
     "data": {
      "application/vnd.plotly.v1+json": {
       "data": [
        {
         "name": "Signal A",
         "type": "scatter",
         "uid": "83418706-5935-11e9-9c32-c8d3ffec4c05",
         "x": [
          "2019-02-04",
          "2019-02-05",
          "2019-02-06",
          "2019-02-07",
          "2019-02-08",
          "2019-02-09",
          "2019-02-10",
          "2019-02-11",
          "2019-02-12",
          "2019-02-13",
          "2019-02-14",
          "2019-02-15",
          "2019-02-16",
          "2019-02-17",
          "2019-02-18"
         ],
         "y": [
          2,
          1,
          5,
          1,
          3,
          2,
          4,
          7,
          8,
          6,
          5,
          4,
          7,
          6,
          3
         ]
        },
        {
         "name": "Signal B",
         "type": "scatter",
         "uid": "83418707-5935-11e9-87d9-c8d3ffec4c05",
         "x": [
          "2019-02-04",
          "2019-02-05",
          "2019-02-06",
          "2019-02-07",
          "2019-02-08",
          "2019-02-09",
          "2019-02-10",
          "2019-02-11",
          "2019-02-12",
          "2019-02-13",
          "2019-02-14",
          "2019-02-15",
          "2019-02-16",
          "2019-02-17",
          "2019-02-18"
         ],
         "y": [
          1,
          4,
          2,
          6,
          4,
          3,
          5,
          6,
          8,
          7,
          6,
          5,
          3,
          1,
          1
         ]
        }
       ],
       "layout": {}
      },
      "text/html": [
       "<div id=\"60bb60dd-259c-4765-8313-e70c6f5a6f06\" style=\"height: 525px; width: 100%;\" class=\"plotly-graph-div\"></div><script type=\"text/javascript\">require([\"plotly\"], function(Plotly) { window.PLOTLYENV=window.PLOTLYENV || {};window.PLOTLYENV.BASE_URL=\"https://plot.ly\";\n",
       "        Plotly.plot(\n",
       "            '60bb60dd-259c-4765-8313-e70c6f5a6f06',\n",
       "            [{\"name\": \"Signal A\", \"x\": [\"2019-02-04\", \"2019-02-05\", \"2019-02-06\", \"2019-02-07\", \"2019-02-08\", \"2019-02-09\", \"2019-02-10\", \"2019-02-11\", \"2019-02-12\", \"2019-02-13\", \"2019-02-14\", \"2019-02-15\", \"2019-02-16\", \"2019-02-17\", \"2019-02-18\"], \"y\": [2.0, 1.0, 5.0, 1.0, 3.0, 2.0, 4.0, 7.0, 8.0, 6.0, 5.0, 4.0, 7.0, 6.0, 3.0], \"type\": \"scatter\", \"uid\": \"83418706-5935-11e9-9c32-c8d3ffec4c05\"}, {\"name\": \"Signal B\", \"x\": [\"2019-02-04\", \"2019-02-05\", \"2019-02-06\", \"2019-02-07\", \"2019-02-08\", \"2019-02-09\", \"2019-02-10\", \"2019-02-11\", \"2019-02-12\", \"2019-02-13\", \"2019-02-14\", \"2019-02-15\", \"2019-02-16\", \"2019-02-17\", \"2019-02-18\"], \"y\": [1.0, 4.0, 2.0, 6.0, 4.0, 3.0, 5.0, 6.0, 8.0, 7.0, 6.0, 5.0, 3.0, 1.0, 1.0], \"type\": \"scatter\", \"uid\": \"83418707-5935-11e9-87d9-c8d3ffec4c05\"}],\n",
       "            {},\n",
       "            {\"showLink\": true, \"linkText\": \"Export to plot.ly\"}\n",
       "        ).then(function () {return Plotly.addFrames('60bb60dd-259c-4765-8313-e70c6f5a6f06',{});}).then(function(){Plotly.animate('60bb60dd-259c-4765-8313-e70c6f5a6f06');})\n",
       "        });</script>"
      ],
      "text/vnd.plotly.v1+html": [
       "<div id=\"60bb60dd-259c-4765-8313-e70c6f5a6f06\" style=\"height: 525px; width: 100%;\" class=\"plotly-graph-div\"></div><script type=\"text/javascript\">require([\"plotly\"], function(Plotly) { window.PLOTLYENV=window.PLOTLYENV || {};window.PLOTLYENV.BASE_URL=\"https://plot.ly\";\n",
       "        Plotly.plot(\n",
       "            '60bb60dd-259c-4765-8313-e70c6f5a6f06',\n",
       "            [{\"name\": \"Signal A\", \"x\": [\"2019-02-04\", \"2019-02-05\", \"2019-02-06\", \"2019-02-07\", \"2019-02-08\", \"2019-02-09\", \"2019-02-10\", \"2019-02-11\", \"2019-02-12\", \"2019-02-13\", \"2019-02-14\", \"2019-02-15\", \"2019-02-16\", \"2019-02-17\", \"2019-02-18\"], \"y\": [2.0, 1.0, 5.0, 1.0, 3.0, 2.0, 4.0, 7.0, 8.0, 6.0, 5.0, 4.0, 7.0, 6.0, 3.0], \"type\": \"scatter\", \"uid\": \"83418706-5935-11e9-9c32-c8d3ffec4c05\"}, {\"name\": \"Signal B\", \"x\": [\"2019-02-04\", \"2019-02-05\", \"2019-02-06\", \"2019-02-07\", \"2019-02-08\", \"2019-02-09\", \"2019-02-10\", \"2019-02-11\", \"2019-02-12\", \"2019-02-13\", \"2019-02-14\", \"2019-02-15\", \"2019-02-16\", \"2019-02-17\", \"2019-02-18\"], \"y\": [1.0, 4.0, 2.0, 6.0, 4.0, 3.0, 5.0, 6.0, 8.0, 7.0, 6.0, 5.0, 3.0, 1.0, 1.0], \"type\": \"scatter\", \"uid\": \"83418707-5935-11e9-87d9-c8d3ffec4c05\"}],\n",
       "            {},\n",
       "            {\"showLink\": true, \"linkText\": \"Export to plot.ly\"}\n",
       "        ).then(function () {return Plotly.addFrames('60bb60dd-259c-4765-8313-e70c6f5a6f06',{});}).then(function(){Plotly.animate('60bb60dd-259c-4765-8313-e70c6f5a6f06');})\n",
       "        });</script>"
      ]
     },
     "metadata": {},
     "output_type": "display_data"
    }
   ],
   "source": [
    "trace_1 = go.Scatter(\n",
    "    x = df.index,\n",
    "    y = df['A'],\n",
    "    name = 'Signal A') # 和之前一样，我们创建了一条trace叫'Signal A'\n",
    "\n",
    "trace_2 = go.Scatter(\n",
    "    x = df.index,\n",
    "    y = df['B'],\n",
    "    name = 'Signal B') # 此处我们创建另一条trace，叫'Signal B'\n",
    "\n",
    "fig = go.Figure(data=[trace_1, trace_2]) # 我们将trace_1与trace_2一并放入画布\n",
    "\n",
    "plotly.offline.iplot(fig) # 绘制"
   ]
  },
  {
   "cell_type": "markdown",
   "metadata": {},
   "source": [
    "### 2.3 双线分图"
   ]
  },
  {
   "cell_type": "markdown",
   "metadata": {},
   "source": [
    "第1类：我们将2个信号（A与B）画在2张不同的图上，它们之间是互相独立的，即各自拥有自己的坐标轴。注意，由于我们需要2个信号分开，我们在此要为trace_2单独指定y轴。"
   ]
  },
  {
   "cell_type": "code",
   "execution_count": 9,
   "metadata": {},
   "outputs": [
    {
     "name": "stdout",
     "output_type": "stream",
     "text": [
      "This is the format of your plot grid:\n",
      "[ (1,1) x1,y1 ]\n",
      "[ (2,1) x2,y2 ]\n",
      "\n"
     ]
    },
    {
     "data": {
      "application/vnd.plotly.v1+json": {
       "data": [
        {
         "name": "Signal A",
         "type": "scatter",
         "uid": "8350e5ca-5935-11e9-beac-c8d3ffec4c05",
         "x": [
          "2019-02-04",
          "2019-02-05",
          "2019-02-06",
          "2019-02-07",
          "2019-02-08",
          "2019-02-09",
          "2019-02-10",
          "2019-02-11",
          "2019-02-12",
          "2019-02-13",
          "2019-02-14",
          "2019-02-15",
          "2019-02-16",
          "2019-02-17",
          "2019-02-18"
         ],
         "xaxis": "x",
         "y": [
          2,
          1,
          5,
          1,
          3,
          2,
          4,
          7,
          8,
          6,
          5,
          4,
          7,
          6,
          3
         ],
         "yaxis": "y"
        },
        {
         "name": "Signal B",
         "type": "scatter",
         "uid": "835181a4-5935-11e9-bb24-c8d3ffec4c05",
         "x": [
          "2019-02-04",
          "2019-02-05",
          "2019-02-06",
          "2019-02-07",
          "2019-02-08",
          "2019-02-09",
          "2019-02-10",
          "2019-02-11",
          "2019-02-12",
          "2019-02-13",
          "2019-02-14",
          "2019-02-15",
          "2019-02-16",
          "2019-02-17",
          "2019-02-18"
         ],
         "xaxis": "x2",
         "y": [
          1,
          4,
          2,
          6,
          4,
          3,
          5,
          6,
          8,
          7,
          6,
          5,
          3,
          1,
          1
         ],
         "yaxis": "y2"
        }
       ],
       "layout": {
        "height": 600,
        "width": 800,
        "xaxis": {
         "anchor": "y",
         "domain": [
          0,
          1
         ]
        },
        "xaxis2": {
         "anchor": "y2",
         "domain": [
          0,
          1
         ]
        },
        "yaxis": {
         "anchor": "x",
         "domain": [
          0.575,
          1
         ]
        },
        "yaxis2": {
         "anchor": "x2",
         "domain": [
          0,
          0.425
         ]
        }
       }
      },
      "text/html": [
       "<div id=\"bbc36f7c-15ca-48ad-a802-3cfe6924df17\" style=\"height: 600px; width: 800px;\" class=\"plotly-graph-div\"></div><script type=\"text/javascript\">require([\"plotly\"], function(Plotly) { window.PLOTLYENV=window.PLOTLYENV || {};window.PLOTLYENV.BASE_URL=\"https://plot.ly\";\n",
       "        Plotly.plot(\n",
       "            'bbc36f7c-15ca-48ad-a802-3cfe6924df17',\n",
       "            [{\"name\": \"Signal A\", \"x\": [\"2019-02-04\", \"2019-02-05\", \"2019-02-06\", \"2019-02-07\", \"2019-02-08\", \"2019-02-09\", \"2019-02-10\", \"2019-02-11\", \"2019-02-12\", \"2019-02-13\", \"2019-02-14\", \"2019-02-15\", \"2019-02-16\", \"2019-02-17\", \"2019-02-18\"], \"y\": [2.0, 1.0, 5.0, 1.0, 3.0, 2.0, 4.0, 7.0, 8.0, 6.0, 5.0, 4.0, 7.0, 6.0, 3.0], \"type\": \"scatter\", \"uid\": \"8350e5ca-5935-11e9-beac-c8d3ffec4c05\", \"xaxis\": \"x\", \"yaxis\": \"y\"}, {\"name\": \"Signal B\", \"x\": [\"2019-02-04\", \"2019-02-05\", \"2019-02-06\", \"2019-02-07\", \"2019-02-08\", \"2019-02-09\", \"2019-02-10\", \"2019-02-11\", \"2019-02-12\", \"2019-02-13\", \"2019-02-14\", \"2019-02-15\", \"2019-02-16\", \"2019-02-17\", \"2019-02-18\"], \"y\": [1.0, 4.0, 2.0, 6.0, 4.0, 3.0, 5.0, 6.0, 8.0, 7.0, 6.0, 5.0, 3.0, 1.0, 1.0], \"yaxis\": \"y2\", \"type\": \"scatter\", \"uid\": \"835181a4-5935-11e9-bb24-c8d3ffec4c05\", \"xaxis\": \"x2\"}],\n",
       "            {\"xaxis\": {\"anchor\": \"y\", \"domain\": [0.0, 1.0]}, \"yaxis\": {\"anchor\": \"x\", \"domain\": [0.575, 1.0]}, \"xaxis2\": {\"anchor\": \"y2\", \"domain\": [0.0, 1.0]}, \"yaxis2\": {\"anchor\": \"x2\", \"domain\": [0.0, 0.425]}, \"height\": 600, \"width\": 800},\n",
       "            {\"showLink\": true, \"linkText\": \"Export to plot.ly\"}\n",
       "        ).then(function () {return Plotly.addFrames('bbc36f7c-15ca-48ad-a802-3cfe6924df17',{});}).then(function(){Plotly.animate('bbc36f7c-15ca-48ad-a802-3cfe6924df17');})\n",
       "        });</script>"
      ],
      "text/vnd.plotly.v1+html": [
       "<div id=\"bbc36f7c-15ca-48ad-a802-3cfe6924df17\" style=\"height: 600px; width: 800px;\" class=\"plotly-graph-div\"></div><script type=\"text/javascript\">require([\"plotly\"], function(Plotly) { window.PLOTLYENV=window.PLOTLYENV || {};window.PLOTLYENV.BASE_URL=\"https://plot.ly\";\n",
       "        Plotly.plot(\n",
       "            'bbc36f7c-15ca-48ad-a802-3cfe6924df17',\n",
       "            [{\"name\": \"Signal A\", \"x\": [\"2019-02-04\", \"2019-02-05\", \"2019-02-06\", \"2019-02-07\", \"2019-02-08\", \"2019-02-09\", \"2019-02-10\", \"2019-02-11\", \"2019-02-12\", \"2019-02-13\", \"2019-02-14\", \"2019-02-15\", \"2019-02-16\", \"2019-02-17\", \"2019-02-18\"], \"y\": [2.0, 1.0, 5.0, 1.0, 3.0, 2.0, 4.0, 7.0, 8.0, 6.0, 5.0, 4.0, 7.0, 6.0, 3.0], \"type\": \"scatter\", \"uid\": \"8350e5ca-5935-11e9-beac-c8d3ffec4c05\", \"xaxis\": \"x\", \"yaxis\": \"y\"}, {\"name\": \"Signal B\", \"x\": [\"2019-02-04\", \"2019-02-05\", \"2019-02-06\", \"2019-02-07\", \"2019-02-08\", \"2019-02-09\", \"2019-02-10\", \"2019-02-11\", \"2019-02-12\", \"2019-02-13\", \"2019-02-14\", \"2019-02-15\", \"2019-02-16\", \"2019-02-17\", \"2019-02-18\"], \"y\": [1.0, 4.0, 2.0, 6.0, 4.0, 3.0, 5.0, 6.0, 8.0, 7.0, 6.0, 5.0, 3.0, 1.0, 1.0], \"yaxis\": \"y2\", \"type\": \"scatter\", \"uid\": \"835181a4-5935-11e9-bb24-c8d3ffec4c05\", \"xaxis\": \"x2\"}],\n",
       "            {\"xaxis\": {\"anchor\": \"y\", \"domain\": [0.0, 1.0]}, \"yaxis\": {\"anchor\": \"x\", \"domain\": [0.575, 1.0]}, \"xaxis2\": {\"anchor\": \"y2\", \"domain\": [0.0, 1.0]}, \"yaxis2\": {\"anchor\": \"x2\", \"domain\": [0.0, 0.425]}, \"height\": 600, \"width\": 800},\n",
       "            {\"showLink\": true, \"linkText\": \"Export to plot.ly\"}\n",
       "        ).then(function () {return Plotly.addFrames('bbc36f7c-15ca-48ad-a802-3cfe6924df17',{});}).then(function(){Plotly.animate('bbc36f7c-15ca-48ad-a802-3cfe6924df17');})\n",
       "        });</script>"
      ]
     },
     "metadata": {},
     "output_type": "display_data"
    }
   ],
   "source": [
    "trace_1 = go.Scatter(\n",
    "    x = df.index,\n",
    "    y = df['A'],\n",
    "    name = 'Signal A') # 创建'Signal A'\n",
    "\n",
    "trace_2 = go.Scatter(\n",
    "    x = df.index,\n",
    "    y = df['B'],\n",
    "    yaxis = 'y2', # 单独指定y轴\n",
    "    name = 'Signal B') # 创建'Signal B'\n",
    "\n",
    "fig = tools.make_subplots(rows=2, cols=1) # 2行1列型的分图，2图不共享y轴\n",
    "fig.append_trace(trace_1, 1, 1) # 将trace_1放在第一张子图上\n",
    "fig.append_trace(trace_2, 2, 1) # 将trace_2放在第二张子图上\n",
    "fig['layout'].update(height=600, width=800) # 利用layout调节图的尺寸\n",
    "\n",
    "plotly.offline.iplot(fig) # 绘制"
   ]
  },
  {
   "cell_type": "markdown",
   "metadata": {},
   "source": [
    "上图可能还不能特别清晰地表明坐标轴独立这回事，那么我们假设2个信号分别拥有不同的x（时间范围错开）："
   ]
  },
  {
   "cell_type": "code",
   "execution_count": 10,
   "metadata": {},
   "outputs": [
    {
     "name": "stdout",
     "output_type": "stream",
     "text": [
      "This is the format of your plot grid:\n",
      "[ (1,1) x1,y1 ]\n",
      "[ (2,1) x2,y2 ]\n",
      "\n"
     ]
    },
    {
     "data": {
      "application/vnd.plotly.v1+json": {
       "data": [
        {
         "name": "Signal A",
         "type": "scatter",
         "uid": "835fa8ba-5935-11e9-b234-c8d3ffec4c05",
         "x": [
          "2019-02-05",
          "2019-02-06",
          "2019-02-07",
          "2019-02-08",
          "2019-02-09",
          "2019-02-10",
          "2019-02-11",
          "2019-02-12",
          "2019-02-13",
          "2019-02-14",
          "2019-02-15",
          "2019-02-16",
          "2019-02-17",
          "2019-02-18",
          "2019-02-19"
         ],
         "xaxis": "x",
         "y": [
          2,
          1,
          5,
          1,
          3,
          2,
          4,
          7,
          8,
          6,
          5,
          4,
          7,
          6,
          3
         ],
         "yaxis": "y"
        },
        {
         "name": "Signal B",
         "type": "scatter",
         "uid": "83604498-5935-11e9-8c23-c8d3ffec4c05",
         "x": [
          "2019-02-10",
          "2019-02-11",
          "2019-02-12",
          "2019-02-13",
          "2019-02-14",
          "2019-02-15",
          "2019-02-16",
          "2019-02-17",
          "2019-02-18",
          "2019-02-19",
          "2019-02-20",
          "2019-02-21",
          "2019-02-22",
          "2019-02-23",
          "2019-02-24"
         ],
         "xaxis": "x2",
         "y": [
          1,
          4,
          2,
          6,
          4,
          3,
          5,
          6,
          8,
          7,
          6,
          5,
          3,
          1,
          1
         ],
         "yaxis": "y2"
        }
       ],
       "layout": {
        "height": 600,
        "width": 800,
        "xaxis": {
         "anchor": "y",
         "domain": [
          0,
          1
         ]
        },
        "xaxis2": {
         "anchor": "y2",
         "domain": [
          0,
          1
         ]
        },
        "yaxis": {
         "anchor": "x",
         "domain": [
          0.575,
          1
         ]
        },
        "yaxis2": {
         "anchor": "x2",
         "domain": [
          0,
          0.425
         ]
        }
       }
      },
      "text/html": [
       "<div id=\"9b947dd1-d18a-4122-af7e-4817bc007931\" style=\"height: 600px; width: 800px;\" class=\"plotly-graph-div\"></div><script type=\"text/javascript\">require([\"plotly\"], function(Plotly) { window.PLOTLYENV=window.PLOTLYENV || {};window.PLOTLYENV.BASE_URL=\"https://plot.ly\";\n",
       "        Plotly.plot(\n",
       "            '9b947dd1-d18a-4122-af7e-4817bc007931',\n",
       "            [{\"name\": \"Signal A\", \"x\": [\"2019-02-05\", \"2019-02-06\", \"2019-02-07\", \"2019-02-08\", \"2019-02-09\", \"2019-02-10\", \"2019-02-11\", \"2019-02-12\", \"2019-02-13\", \"2019-02-14\", \"2019-02-15\", \"2019-02-16\", \"2019-02-17\", \"2019-02-18\", \"2019-02-19\"], \"y\": [2.0, 1.0, 5.0, 1.0, 3.0, 2.0, 4.0, 7.0, 8.0, 6.0, 5.0, 4.0, 7.0, 6.0, 3.0], \"type\": \"scatter\", \"uid\": \"835fa8ba-5935-11e9-b234-c8d3ffec4c05\", \"xaxis\": \"x\", \"yaxis\": \"y\"}, {\"name\": \"Signal B\", \"x\": [\"2019-02-10\", \"2019-02-11\", \"2019-02-12\", \"2019-02-13\", \"2019-02-14\", \"2019-02-15\", \"2019-02-16\", \"2019-02-17\", \"2019-02-18\", \"2019-02-19\", \"2019-02-20\", \"2019-02-21\", \"2019-02-22\", \"2019-02-23\", \"2019-02-24\"], \"y\": [1.0, 4.0, 2.0, 6.0, 4.0, 3.0, 5.0, 6.0, 8.0, 7.0, 6.0, 5.0, 3.0, 1.0, 1.0], \"yaxis\": \"y2\", \"type\": \"scatter\", \"uid\": \"83604498-5935-11e9-8c23-c8d3ffec4c05\", \"xaxis\": \"x2\"}],\n",
       "            {\"xaxis\": {\"anchor\": \"y\", \"domain\": [0.0, 1.0]}, \"yaxis\": {\"anchor\": \"x\", \"domain\": [0.575, 1.0]}, \"xaxis2\": {\"anchor\": \"y2\", \"domain\": [0.0, 1.0]}, \"yaxis2\": {\"anchor\": \"x2\", \"domain\": [0.0, 0.425]}, \"height\": 600, \"width\": 800},\n",
       "            {\"showLink\": true, \"linkText\": \"Export to plot.ly\"}\n",
       "        ).then(function () {return Plotly.addFrames('9b947dd1-d18a-4122-af7e-4817bc007931',{});}).then(function(){Plotly.animate('9b947dd1-d18a-4122-af7e-4817bc007931');})\n",
       "        });</script>"
      ],
      "text/vnd.plotly.v1+html": [
       "<div id=\"9b947dd1-d18a-4122-af7e-4817bc007931\" style=\"height: 600px; width: 800px;\" class=\"plotly-graph-div\"></div><script type=\"text/javascript\">require([\"plotly\"], function(Plotly) { window.PLOTLYENV=window.PLOTLYENV || {};window.PLOTLYENV.BASE_URL=\"https://plot.ly\";\n",
       "        Plotly.plot(\n",
       "            '9b947dd1-d18a-4122-af7e-4817bc007931',\n",
       "            [{\"name\": \"Signal A\", \"x\": [\"2019-02-05\", \"2019-02-06\", \"2019-02-07\", \"2019-02-08\", \"2019-02-09\", \"2019-02-10\", \"2019-02-11\", \"2019-02-12\", \"2019-02-13\", \"2019-02-14\", \"2019-02-15\", \"2019-02-16\", \"2019-02-17\", \"2019-02-18\", \"2019-02-19\"], \"y\": [2.0, 1.0, 5.0, 1.0, 3.0, 2.0, 4.0, 7.0, 8.0, 6.0, 5.0, 4.0, 7.0, 6.0, 3.0], \"type\": \"scatter\", \"uid\": \"835fa8ba-5935-11e9-b234-c8d3ffec4c05\", \"xaxis\": \"x\", \"yaxis\": \"y\"}, {\"name\": \"Signal B\", \"x\": [\"2019-02-10\", \"2019-02-11\", \"2019-02-12\", \"2019-02-13\", \"2019-02-14\", \"2019-02-15\", \"2019-02-16\", \"2019-02-17\", \"2019-02-18\", \"2019-02-19\", \"2019-02-20\", \"2019-02-21\", \"2019-02-22\", \"2019-02-23\", \"2019-02-24\"], \"y\": [1.0, 4.0, 2.0, 6.0, 4.0, 3.0, 5.0, 6.0, 8.0, 7.0, 6.0, 5.0, 3.0, 1.0, 1.0], \"yaxis\": \"y2\", \"type\": \"scatter\", \"uid\": \"83604498-5935-11e9-8c23-c8d3ffec4c05\", \"xaxis\": \"x2\"}],\n",
       "            {\"xaxis\": {\"anchor\": \"y\", \"domain\": [0.0, 1.0]}, \"yaxis\": {\"anchor\": \"x\", \"domain\": [0.575, 1.0]}, \"xaxis2\": {\"anchor\": \"y2\", \"domain\": [0.0, 1.0]}, \"yaxis2\": {\"anchor\": \"x2\", \"domain\": [0.0, 0.425]}, \"height\": 600, \"width\": 800},\n",
       "            {\"showLink\": true, \"linkText\": \"Export to plot.ly\"}\n",
       "        ).then(function () {return Plotly.addFrames('9b947dd1-d18a-4122-af7e-4817bc007931',{});}).then(function(){Plotly.animate('9b947dd1-d18a-4122-af7e-4817bc007931');})\n",
       "        });</script>"
      ]
     },
     "metadata": {},
     "output_type": "display_data"
    }
   ],
   "source": [
    "trace_1 = go.Scatter(\n",
    "    x = pd.date_range('2019/02/05', periods=15),\n",
    "    y = df['A'],\n",
    "    name = 'Signal A') # 'Signal A'为从2019-02-05开始的15天\n",
    "\n",
    "trace_2 = go.Scatter(\n",
    "    x = pd.date_range('2019/02/10', periods=15),\n",
    "    y = df['B'],\n",
    "    yaxis = 'y2',\n",
    "    name = 'Signal B') # 'Signal B'为从2019-02-10开始的15天\n",
    "\n",
    "fig = tools.make_subplots(rows=2, cols=1)\n",
    "fig.append_trace(trace_1, 1, 1) \n",
    "fig.append_trace(trace_2, 2, 1) \n",
    "fig['layout'].update(height=600, width=800) \n",
    "\n",
    "plotly.offline.iplot(fig)"
   ]
  },
  {
   "cell_type": "markdown",
   "metadata": {
    "collapsed": true
   },
   "source": [
    "可以看到，两张子图的x轴是不一样的。现在我们来看第2类情况：2图共享x轴，并且按时间对齐。"
   ]
  },
  {
   "cell_type": "code",
   "execution_count": 11,
   "metadata": {},
   "outputs": [
    {
     "name": "stdout",
     "output_type": "stream",
     "text": [
      "This is the format of your plot grid:\n",
      "[ (1,1) x1,y1 ]\n",
      "[ (2,1) x1,y2 ]\n",
      "\n"
     ]
    },
    {
     "data": {
      "application/vnd.plotly.v1+json": {
       "data": [
        {
         "name": "Signal A",
         "type": "scatter",
         "uid": "83729b50-5935-11e9-a9bf-c8d3ffec4c05",
         "x": [
          "2019-02-05",
          "2019-02-06",
          "2019-02-07",
          "2019-02-08",
          "2019-02-09",
          "2019-02-10",
          "2019-02-11",
          "2019-02-12",
          "2019-02-13",
          "2019-02-14",
          "2019-02-15",
          "2019-02-16",
          "2019-02-17",
          "2019-02-18",
          "2019-02-19"
         ],
         "xaxis": "x",
         "y": [
          2,
          1,
          5,
          1,
          3,
          2,
          4,
          7,
          8,
          6,
          5,
          4,
          7,
          6,
          3
         ],
         "yaxis": "y"
        },
        {
         "name": "Signal B",
         "type": "scatter",
         "uid": "83733728-5935-11e9-a69d-c8d3ffec4c05",
         "x": [
          "2019-02-10",
          "2019-02-11",
          "2019-02-12",
          "2019-02-13",
          "2019-02-14",
          "2019-02-15",
          "2019-02-16",
          "2019-02-17",
          "2019-02-18",
          "2019-02-19",
          "2019-02-20",
          "2019-02-21",
          "2019-02-22",
          "2019-02-23",
          "2019-02-24"
         ],
         "xaxis": "x",
         "y": [
          1,
          4,
          2,
          6,
          4,
          3,
          5,
          6,
          8,
          7,
          6,
          5,
          3,
          1,
          1
         ],
         "yaxis": "y2"
        }
       ],
       "layout": {
        "height": 600,
        "width": 800,
        "xaxis": {
         "anchor": "y2",
         "domain": [
          0,
          1
         ]
        },
        "yaxis": {
         "anchor": "free",
         "domain": [
          0.575,
          1
         ],
         "position": 0
        },
        "yaxis2": {
         "anchor": "x",
         "domain": [
          0,
          0.425
         ]
        }
       }
      },
      "text/html": [
       "<div id=\"a56bc56a-b69b-478d-a92c-bc4b48d5c1ae\" style=\"height: 600px; width: 800px;\" class=\"plotly-graph-div\"></div><script type=\"text/javascript\">require([\"plotly\"], function(Plotly) { window.PLOTLYENV=window.PLOTLYENV || {};window.PLOTLYENV.BASE_URL=\"https://plot.ly\";\n",
       "        Plotly.plot(\n",
       "            'a56bc56a-b69b-478d-a92c-bc4b48d5c1ae',\n",
       "            [{\"name\": \"Signal A\", \"x\": [\"2019-02-05\", \"2019-02-06\", \"2019-02-07\", \"2019-02-08\", \"2019-02-09\", \"2019-02-10\", \"2019-02-11\", \"2019-02-12\", \"2019-02-13\", \"2019-02-14\", \"2019-02-15\", \"2019-02-16\", \"2019-02-17\", \"2019-02-18\", \"2019-02-19\"], \"y\": [2.0, 1.0, 5.0, 1.0, 3.0, 2.0, 4.0, 7.0, 8.0, 6.0, 5.0, 4.0, 7.0, 6.0, 3.0], \"type\": \"scatter\", \"uid\": \"83729b50-5935-11e9-a9bf-c8d3ffec4c05\", \"xaxis\": \"x\", \"yaxis\": \"y\"}, {\"name\": \"Signal B\", \"x\": [\"2019-02-10\", \"2019-02-11\", \"2019-02-12\", \"2019-02-13\", \"2019-02-14\", \"2019-02-15\", \"2019-02-16\", \"2019-02-17\", \"2019-02-18\", \"2019-02-19\", \"2019-02-20\", \"2019-02-21\", \"2019-02-22\", \"2019-02-23\", \"2019-02-24\"], \"y\": [1.0, 4.0, 2.0, 6.0, 4.0, 3.0, 5.0, 6.0, 8.0, 7.0, 6.0, 5.0, 3.0, 1.0, 1.0], \"yaxis\": \"y2\", \"type\": \"scatter\", \"uid\": \"83733728-5935-11e9-a69d-c8d3ffec4c05\", \"xaxis\": \"x\"}],\n",
       "            {\"xaxis\": {\"anchor\": \"y2\", \"domain\": [0.0, 1.0]}, \"yaxis\": {\"anchor\": \"free\", \"domain\": [0.575, 1.0], \"position\": 0.0}, \"yaxis2\": {\"anchor\": \"x\", \"domain\": [0.0, 0.425]}, \"height\": 600, \"width\": 800},\n",
       "            {\"showLink\": true, \"linkText\": \"Export to plot.ly\"}\n",
       "        ).then(function () {return Plotly.addFrames('a56bc56a-b69b-478d-a92c-bc4b48d5c1ae',{});}).then(function(){Plotly.animate('a56bc56a-b69b-478d-a92c-bc4b48d5c1ae');})\n",
       "        });</script>"
      ],
      "text/vnd.plotly.v1+html": [
       "<div id=\"a56bc56a-b69b-478d-a92c-bc4b48d5c1ae\" style=\"height: 600px; width: 800px;\" class=\"plotly-graph-div\"></div><script type=\"text/javascript\">require([\"plotly\"], function(Plotly) { window.PLOTLYENV=window.PLOTLYENV || {};window.PLOTLYENV.BASE_URL=\"https://plot.ly\";\n",
       "        Plotly.plot(\n",
       "            'a56bc56a-b69b-478d-a92c-bc4b48d5c1ae',\n",
       "            [{\"name\": \"Signal A\", \"x\": [\"2019-02-05\", \"2019-02-06\", \"2019-02-07\", \"2019-02-08\", \"2019-02-09\", \"2019-02-10\", \"2019-02-11\", \"2019-02-12\", \"2019-02-13\", \"2019-02-14\", \"2019-02-15\", \"2019-02-16\", \"2019-02-17\", \"2019-02-18\", \"2019-02-19\"], \"y\": [2.0, 1.0, 5.0, 1.0, 3.0, 2.0, 4.0, 7.0, 8.0, 6.0, 5.0, 4.0, 7.0, 6.0, 3.0], \"type\": \"scatter\", \"uid\": \"83729b50-5935-11e9-a9bf-c8d3ffec4c05\", \"xaxis\": \"x\", \"yaxis\": \"y\"}, {\"name\": \"Signal B\", \"x\": [\"2019-02-10\", \"2019-02-11\", \"2019-02-12\", \"2019-02-13\", \"2019-02-14\", \"2019-02-15\", \"2019-02-16\", \"2019-02-17\", \"2019-02-18\", \"2019-02-19\", \"2019-02-20\", \"2019-02-21\", \"2019-02-22\", \"2019-02-23\", \"2019-02-24\"], \"y\": [1.0, 4.0, 2.0, 6.0, 4.0, 3.0, 5.0, 6.0, 8.0, 7.0, 6.0, 5.0, 3.0, 1.0, 1.0], \"yaxis\": \"y2\", \"type\": \"scatter\", \"uid\": \"83733728-5935-11e9-a69d-c8d3ffec4c05\", \"xaxis\": \"x\"}],\n",
       "            {\"xaxis\": {\"anchor\": \"y2\", \"domain\": [0.0, 1.0]}, \"yaxis\": {\"anchor\": \"free\", \"domain\": [0.575, 1.0], \"position\": 0.0}, \"yaxis2\": {\"anchor\": \"x\", \"domain\": [0.0, 0.425]}, \"height\": 600, \"width\": 800},\n",
       "            {\"showLink\": true, \"linkText\": \"Export to plot.ly\"}\n",
       "        ).then(function () {return Plotly.addFrames('a56bc56a-b69b-478d-a92c-bc4b48d5c1ae',{});}).then(function(){Plotly.animate('a56bc56a-b69b-478d-a92c-bc4b48d5c1ae');})\n",
       "        });</script>"
      ]
     },
     "metadata": {},
     "output_type": "display_data"
    }
   ],
   "source": [
    "trace_1 = go.Scatter(\n",
    "    x = pd.date_range('2019/02/05', periods=15),\n",
    "    y = df['A'],\n",
    "    name = 'Signal A') # 创建'Signal A'\n",
    "\n",
    "trace_2 = go.Scatter(\n",
    "    x = pd.date_range('2019/02/10', periods=15),\n",
    "    y = df['B'],\n",
    "    yaxis = 'y2', # 单独指定y轴\n",
    "    name = 'Signal B') # 创建'Signal B'\n",
    "\n",
    "fig = tools.make_subplots(rows=2, cols=1, shared_xaxes=True) # 修改参数\"shared_xaxes=True\", 则2图共享x轴，其他都一样，共享y轴也类似\n",
    "fig.append_trace(trace_1, 1, 1) \n",
    "fig.append_trace(trace_2, 2, 1) \n",
    "fig['layout'].update(height=600, width=800) # 调节尺寸\n",
    "\n",
    "plotly.offline.iplot(fig) # 绘制"
   ]
  },
  {
   "cell_type": "markdown",
   "metadata": {},
   "source": [
    "### 2.4 其他要素"
   ]
  },
  {
   "cell_type": "markdown",
   "metadata": {},
   "source": [
    "为了让我们的图看上去更正规一些，我们还需要为坐标轴添加标题或者修改字体什么的，以下给出一个综合性的示例："
   ]
  },
  {
   "cell_type": "code",
   "execution_count": 12,
   "metadata": {},
   "outputs": [
    {
     "name": "stdout",
     "output_type": "stream",
     "text": [
      "This is the format of your plot grid:\n",
      "[ (1,1) x1,y1 ]\n",
      "[ (2,1) x1,y2 ]\n",
      "\n"
     ]
    },
    {
     "data": {
      "application/vnd.plotly.v1+json": {
       "data": [
        {
         "name": "Signal A",
         "type": "scatter",
         "uid": "8380269e-5935-11e9-a1f4-c8d3ffec4c05",
         "x": [
          "2019-02-05",
          "2019-02-06",
          "2019-02-07",
          "2019-02-08",
          "2019-02-09",
          "2019-02-10",
          "2019-02-11",
          "2019-02-12",
          "2019-02-13",
          "2019-02-14",
          "2019-02-15",
          "2019-02-16",
          "2019-02-17",
          "2019-02-18",
          "2019-02-19"
         ],
         "xaxis": "x",
         "y": [
          2,
          1,
          5,
          1,
          3,
          2,
          4,
          7,
          8,
          6,
          5,
          4,
          7,
          6,
          3
         ],
         "yaxis": "y"
        },
        {
         "name": "Signal B",
         "type": "scatter",
         "uid": "8380c274-5935-11e9-a7e7-c8d3ffec4c05",
         "x": [
          "2019-02-10",
          "2019-02-11",
          "2019-02-12",
          "2019-02-13",
          "2019-02-14",
          "2019-02-15",
          "2019-02-16",
          "2019-02-17",
          "2019-02-18",
          "2019-02-19",
          "2019-02-20",
          "2019-02-21",
          "2019-02-22",
          "2019-02-23",
          "2019-02-24"
         ],
         "xaxis": "x",
         "y": [
          1,
          4,
          2,
          6,
          4,
          3,
          5,
          6,
          8,
          7,
          6,
          5,
          3,
          1,
          1
         ],
         "yaxis": "y2"
        }
       ],
       "layout": {
        "height": 600,
        "title": "Comparison of 2 Signals",
        "width": 800,
        "xaxis": {
         "anchor": "y2",
         "domain": [
          0,
          1
         ],
         "title": "Time",
         "titlefont": {
          "family": "Courier New, monospace",
          "size": 15
         }
        },
        "yaxis": {
         "anchor": "free",
         "domain": [
          0.575,
          1
         ],
         "position": 0,
         "title": "Amplitude 1",
         "titlefont": {
          "family": "Courier New, monospace",
          "size": 15
         }
        },
        "yaxis2": {
         "anchor": "x",
         "domain": [
          0,
          0.425
         ],
         "side": "right",
         "title": "Amplitude 2",
         "titlefont": {
          "family": "Courier New, monospace",
          "size": 15
         }
        }
       }
      },
      "text/html": [
       "<div id=\"bbf205a0-a8f2-433c-b9c3-e8f58124baff\" style=\"height: 600px; width: 800px;\" class=\"plotly-graph-div\"></div><script type=\"text/javascript\">require([\"plotly\"], function(Plotly) { window.PLOTLYENV=window.PLOTLYENV || {};window.PLOTLYENV.BASE_URL=\"https://plot.ly\";\n",
       "        Plotly.plot(\n",
       "            'bbf205a0-a8f2-433c-b9c3-e8f58124baff',\n",
       "            [{\"name\": \"Signal A\", \"x\": [\"2019-02-05\", \"2019-02-06\", \"2019-02-07\", \"2019-02-08\", \"2019-02-09\", \"2019-02-10\", \"2019-02-11\", \"2019-02-12\", \"2019-02-13\", \"2019-02-14\", \"2019-02-15\", \"2019-02-16\", \"2019-02-17\", \"2019-02-18\", \"2019-02-19\"], \"y\": [2.0, 1.0, 5.0, 1.0, 3.0, 2.0, 4.0, 7.0, 8.0, 6.0, 5.0, 4.0, 7.0, 6.0, 3.0], \"type\": \"scatter\", \"uid\": \"8380269e-5935-11e9-a1f4-c8d3ffec4c05\", \"xaxis\": \"x\", \"yaxis\": \"y\"}, {\"name\": \"Signal B\", \"x\": [\"2019-02-10\", \"2019-02-11\", \"2019-02-12\", \"2019-02-13\", \"2019-02-14\", \"2019-02-15\", \"2019-02-16\", \"2019-02-17\", \"2019-02-18\", \"2019-02-19\", \"2019-02-20\", \"2019-02-21\", \"2019-02-22\", \"2019-02-23\", \"2019-02-24\"], \"y\": [1.0, 4.0, 2.0, 6.0, 4.0, 3.0, 5.0, 6.0, 8.0, 7.0, 6.0, 5.0, 3.0, 1.0, 1.0], \"yaxis\": \"y2\", \"type\": \"scatter\", \"uid\": \"8380c274-5935-11e9-a7e7-c8d3ffec4c05\", \"xaxis\": \"x\"}],\n",
       "            {\"xaxis\": {\"anchor\": \"y2\", \"domain\": [0.0, 1.0], \"titlefont\": {\"size\": 15, \"family\": \"Courier New, monospace\"}, \"title\": \"Time\"}, \"yaxis\": {\"anchor\": \"free\", \"domain\": [0.575, 1.0], \"position\": 0.0, \"titlefont\": {\"size\": 15, \"family\": \"Courier New, monospace\"}, \"title\": \"Amplitude 1\"}, \"yaxis2\": {\"anchor\": \"x\", \"domain\": [0.0, 0.425], \"titlefont\": {\"size\": 15, \"family\": \"Courier New, monospace\"}, \"title\": \"Amplitude 2\", \"side\": \"right\"}, \"height\": 600, \"width\": 800, \"title\": \"Comparison of 2 Signals\"},\n",
       "            {\"showLink\": true, \"linkText\": \"Export to plot.ly\"}\n",
       "        ).then(function () {return Plotly.addFrames('bbf205a0-a8f2-433c-b9c3-e8f58124baff',{});}).then(function(){Plotly.animate('bbf205a0-a8f2-433c-b9c3-e8f58124baff');})\n",
       "        });</script>"
      ],
      "text/vnd.plotly.v1+html": [
       "<div id=\"bbf205a0-a8f2-433c-b9c3-e8f58124baff\" style=\"height: 600px; width: 800px;\" class=\"plotly-graph-div\"></div><script type=\"text/javascript\">require([\"plotly\"], function(Plotly) { window.PLOTLYENV=window.PLOTLYENV || {};window.PLOTLYENV.BASE_URL=\"https://plot.ly\";\n",
       "        Plotly.plot(\n",
       "            'bbf205a0-a8f2-433c-b9c3-e8f58124baff',\n",
       "            [{\"name\": \"Signal A\", \"x\": [\"2019-02-05\", \"2019-02-06\", \"2019-02-07\", \"2019-02-08\", \"2019-02-09\", \"2019-02-10\", \"2019-02-11\", \"2019-02-12\", \"2019-02-13\", \"2019-02-14\", \"2019-02-15\", \"2019-02-16\", \"2019-02-17\", \"2019-02-18\", \"2019-02-19\"], \"y\": [2.0, 1.0, 5.0, 1.0, 3.0, 2.0, 4.0, 7.0, 8.0, 6.0, 5.0, 4.0, 7.0, 6.0, 3.0], \"type\": \"scatter\", \"uid\": \"8380269e-5935-11e9-a1f4-c8d3ffec4c05\", \"xaxis\": \"x\", \"yaxis\": \"y\"}, {\"name\": \"Signal B\", \"x\": [\"2019-02-10\", \"2019-02-11\", \"2019-02-12\", \"2019-02-13\", \"2019-02-14\", \"2019-02-15\", \"2019-02-16\", \"2019-02-17\", \"2019-02-18\", \"2019-02-19\", \"2019-02-20\", \"2019-02-21\", \"2019-02-22\", \"2019-02-23\", \"2019-02-24\"], \"y\": [1.0, 4.0, 2.0, 6.0, 4.0, 3.0, 5.0, 6.0, 8.0, 7.0, 6.0, 5.0, 3.0, 1.0, 1.0], \"yaxis\": \"y2\", \"type\": \"scatter\", \"uid\": \"8380c274-5935-11e9-a7e7-c8d3ffec4c05\", \"xaxis\": \"x\"}],\n",
       "            {\"xaxis\": {\"anchor\": \"y2\", \"domain\": [0.0, 1.0], \"titlefont\": {\"size\": 15, \"family\": \"Courier New, monospace\"}, \"title\": \"Time\"}, \"yaxis\": {\"anchor\": \"free\", \"domain\": [0.575, 1.0], \"position\": 0.0, \"titlefont\": {\"size\": 15, \"family\": \"Courier New, monospace\"}, \"title\": \"Amplitude 1\"}, \"yaxis2\": {\"anchor\": \"x\", \"domain\": [0.0, 0.425], \"titlefont\": {\"size\": 15, \"family\": \"Courier New, monospace\"}, \"title\": \"Amplitude 2\", \"side\": \"right\"}, \"height\": 600, \"width\": 800, \"title\": \"Comparison of 2 Signals\"},\n",
       "            {\"showLink\": true, \"linkText\": \"Export to plot.ly\"}\n",
       "        ).then(function () {return Plotly.addFrames('bbf205a0-a8f2-433c-b9c3-e8f58124baff',{});}).then(function(){Plotly.animate('bbf205a0-a8f2-433c-b9c3-e8f58124baff');})\n",
       "        });</script>"
      ]
     },
     "metadata": {},
     "output_type": "display_data"
    }
   ],
   "source": [
    "trace_1 = go.Scatter(\n",
    "    x = pd.date_range('2019/02/05', periods=15),\n",
    "    y = df['A'],\n",
    "    name = 'Signal A') # 创建'Signal A'\n",
    "\n",
    "trace_2 = go.Scatter(\n",
    "    x = pd.date_range('2019/02/10', periods=15),\n",
    "    y = df['B'],\n",
    "    yaxis = 'y2', # 单独指定y轴\n",
    "    name = 'Signal B') # 创建'Signal B'\n",
    "\n",
    "fig = tools.make_subplots(rows=2, cols=1, shared_xaxes=True) # 2行1列分图，两者共享x轴\n",
    "fig['layout'].update(\n",
    "    xaxis = dict(\n",
    "        title = 'Time', # 指定x轴的标题\n",
    "        titlefont = dict(\n",
    "            size = 15, # 指定x轴的字体大小\n",
    "            family = 'Courier New, monospace', # 指定x轴的字体\n",
    "        )\n",
    "    ),\n",
    "    yaxis = dict(\n",
    "        title = 'Amplitude 1', # 指定y1轴的标题\n",
    "        titlefont = dict(\n",
    "            size = 15, # 指定y1轴的字体大小\n",
    "            family = 'Courier New, monospace', # 指定y1轴的字体\n",
    "        )\n",
    "    ),\n",
    "    yaxis2 = dict(\n",
    "        title = 'Amplitude 2', # 指定y2轴的标题\n",
    "        titlefont = dict(\n",
    "            size = 15, # 指定y2轴的字体大小\n",
    "            family = 'Courier New, monospace', # 指定y2轴的字体\n",
    "        ),\n",
    "        side = 'right' # y轴默认出现在左侧，此处将y2轴放到右侧\n",
    "    )\n",
    ")\n",
    "\n",
    "fig.append_trace(trace_1, 1, 1) \n",
    "fig.append_trace(trace_2, 2, 1) \n",
    "fig['layout'].update(height=600, width=800, title='Comparison of 2 Signals') # 调整尺寸，为全图加上标题\n",
    "\n",
    "plotly.offline.iplot(fig) # 绘制"
   ]
  },
  {
   "cell_type": "markdown",
   "metadata": {},
   "source": [
    "### 2.5 增/删数据点标记"
   ]
  },
  {
   "cell_type": "markdown",
   "metadata": {},
   "source": [
    "有时候我们只需要线，但不想看到数据点，我们可以通过修改trace的mode来实现这一点："
   ]
  },
  {
   "cell_type": "code",
   "execution_count": 13,
   "metadata": {},
   "outputs": [
    {
     "data": {
      "application/vnd.plotly.v1+json": {
       "data": [
        {
         "mode": "lines",
         "name": "Signal A",
         "type": "scatter",
         "uid": "838663e4-5935-11e9-9bb5-c8d3ffec4c05",
         "x": [
          "2019-02-04",
          "2019-02-05",
          "2019-02-06",
          "2019-02-07",
          "2019-02-08",
          "2019-02-09",
          "2019-02-10",
          "2019-02-11",
          "2019-02-12",
          "2019-02-13",
          "2019-02-14",
          "2019-02-15",
          "2019-02-16",
          "2019-02-17",
          "2019-02-18"
         ],
         "y": [
          2,
          1,
          5,
          1,
          3,
          2,
          4,
          7,
          8,
          6,
          5,
          4,
          7,
          6,
          3
         ]
        }
       ],
       "layout": {
        "showlegend": true
       }
      },
      "text/html": [
       "<div id=\"f5edcacd-f63e-40f5-8261-f5c4be2f13ba\" style=\"height: 525px; width: 100%;\" class=\"plotly-graph-div\"></div><script type=\"text/javascript\">require([\"plotly\"], function(Plotly) { window.PLOTLYENV=window.PLOTLYENV || {};window.PLOTLYENV.BASE_URL=\"https://plot.ly\";\n",
       "        Plotly.plot(\n",
       "            'f5edcacd-f63e-40f5-8261-f5c4be2f13ba',\n",
       "            [{\"mode\": \"lines\", \"name\": \"Signal A\", \"x\": [\"2019-02-04\", \"2019-02-05\", \"2019-02-06\", \"2019-02-07\", \"2019-02-08\", \"2019-02-09\", \"2019-02-10\", \"2019-02-11\", \"2019-02-12\", \"2019-02-13\", \"2019-02-14\", \"2019-02-15\", \"2019-02-16\", \"2019-02-17\", \"2019-02-18\"], \"y\": [2.0, 1.0, 5.0, 1.0, 3.0, 2.0, 4.0, 7.0, 8.0, 6.0, 5.0, 4.0, 7.0, 6.0, 3.0], \"type\": \"scatter\", \"uid\": \"838663e4-5935-11e9-9bb5-c8d3ffec4c05\"}],\n",
       "            {\"showlegend\": true},\n",
       "            {\"showLink\": true, \"linkText\": \"Export to plot.ly\"}\n",
       "        ).then(function () {return Plotly.addFrames('f5edcacd-f63e-40f5-8261-f5c4be2f13ba',{});}).then(function(){Plotly.animate('f5edcacd-f63e-40f5-8261-f5c4be2f13ba');})\n",
       "        });</script>"
      ],
      "text/vnd.plotly.v1+html": [
       "<div id=\"f5edcacd-f63e-40f5-8261-f5c4be2f13ba\" style=\"height: 525px; width: 100%;\" class=\"plotly-graph-div\"></div><script type=\"text/javascript\">require([\"plotly\"], function(Plotly) { window.PLOTLYENV=window.PLOTLYENV || {};window.PLOTLYENV.BASE_URL=\"https://plot.ly\";\n",
       "        Plotly.plot(\n",
       "            'f5edcacd-f63e-40f5-8261-f5c4be2f13ba',\n",
       "            [{\"mode\": \"lines\", \"name\": \"Signal A\", \"x\": [\"2019-02-04\", \"2019-02-05\", \"2019-02-06\", \"2019-02-07\", \"2019-02-08\", \"2019-02-09\", \"2019-02-10\", \"2019-02-11\", \"2019-02-12\", \"2019-02-13\", \"2019-02-14\", \"2019-02-15\", \"2019-02-16\", \"2019-02-17\", \"2019-02-18\"], \"y\": [2.0, 1.0, 5.0, 1.0, 3.0, 2.0, 4.0, 7.0, 8.0, 6.0, 5.0, 4.0, 7.0, 6.0, 3.0], \"type\": \"scatter\", \"uid\": \"838663e4-5935-11e9-9bb5-c8d3ffec4c05\"}],\n",
       "            {\"showlegend\": true},\n",
       "            {\"showLink\": true, \"linkText\": \"Export to plot.ly\"}\n",
       "        ).then(function () {return Plotly.addFrames('f5edcacd-f63e-40f5-8261-f5c4be2f13ba',{});}).then(function(){Plotly.animate('f5edcacd-f63e-40f5-8261-f5c4be2f13ba');})\n",
       "        });</script>"
      ]
     },
     "metadata": {},
     "output_type": "display_data"
    }
   ],
   "source": [
    "trace_1 = go.Scatter(\n",
    "    x = df.index,\n",
    "    y = df['A'],\n",
    "    mode = 'lines', # mode默认为lines+markers，即既有线又有点，此处改为只有线\n",
    "    name = 'Signal A') \n",
    "\n",
    "layout = go.Layout(showlegend=True) # 我们之前画单线时都没有图例，这里通过调节layout强制显示图例\n",
    "\n",
    "fig = go.Figure(data=[trace_1], layout=layout) \n",
    "\n",
    "plotly.offline.iplot(fig)"
   ]
  },
  {
   "cell_type": "markdown",
   "metadata": {},
   "source": [
    "在此基础上，有时我们会需要增加一些markers来强调某些数据点（比如标注异常值），我们可以绘制2条trace，一条用于绘制线图（只有线，没有点），另一条单独用于加标注点，如下所示："
   ]
  },
  {
   "cell_type": "code",
   "execution_count": 14,
   "metadata": {},
   "outputs": [
    {
     "data": {
      "application/vnd.plotly.v1+json": {
       "data": [
        {
         "mode": "lines",
         "name": "Signal A",
         "type": "scatter",
         "uid": "839f94b6-5935-11e9-b19b-c8d3ffec4c05",
         "x": [
          "2019-02-04",
          "2019-02-05",
          "2019-02-06",
          "2019-02-07",
          "2019-02-08",
          "2019-02-09",
          "2019-02-10",
          "2019-02-11",
          "2019-02-12",
          "2019-02-13",
          "2019-02-14",
          "2019-02-15",
          "2019-02-16",
          "2019-02-17",
          "2019-02-18"
         ],
         "y": [
          2,
          1,
          5,
          1,
          3,
          2,
          4,
          7,
          8,
          6,
          5,
          4,
          7,
          6,
          3
         ]
        },
        {
         "marker": {
          "color": "rgba(255, 50, 50, 0.75)",
          "size": 20
         },
         "mode": "markers",
         "name": "Outliers",
         "type": "scatter",
         "uid": "839f94b7-5935-11e9-8c09-c8d3ffec4c05",
         "x": [
          "2019-02-06",
          "2019-02-11",
          "2019-02-12",
          "2019-02-13",
          "2019-02-14",
          "2019-02-16",
          "2019-02-17"
         ],
         "y": [
          5,
          7,
          8,
          6,
          5,
          7,
          6
         ]
        }
       ],
       "layout": {}
      },
      "text/html": [
       "<div id=\"20bb3b7e-3e43-404a-8475-21acc4c24e4c\" style=\"height: 525px; width: 100%;\" class=\"plotly-graph-div\"></div><script type=\"text/javascript\">require([\"plotly\"], function(Plotly) { window.PLOTLYENV=window.PLOTLYENV || {};window.PLOTLYENV.BASE_URL=\"https://plot.ly\";\n",
       "        Plotly.plot(\n",
       "            '20bb3b7e-3e43-404a-8475-21acc4c24e4c',\n",
       "            [{\"mode\": \"lines\", \"name\": \"Signal A\", \"x\": [\"2019-02-04\", \"2019-02-05\", \"2019-02-06\", \"2019-02-07\", \"2019-02-08\", \"2019-02-09\", \"2019-02-10\", \"2019-02-11\", \"2019-02-12\", \"2019-02-13\", \"2019-02-14\", \"2019-02-15\", \"2019-02-16\", \"2019-02-17\", \"2019-02-18\"], \"y\": [2.0, 1.0, 5.0, 1.0, 3.0, 2.0, 4.0, 7.0, 8.0, 6.0, 5.0, 4.0, 7.0, 6.0, 3.0], \"type\": \"scatter\", \"uid\": \"839f94b6-5935-11e9-b19b-c8d3ffec4c05\"}, {\"marker\": {\"color\": \"rgba(255, 50, 50, 0.75)\", \"size\": 20}, \"mode\": \"markers\", \"name\": \"Outliers\", \"x\": [\"2019-02-06\", \"2019-02-11\", \"2019-02-12\", \"2019-02-13\", \"2019-02-14\", \"2019-02-16\", \"2019-02-17\"], \"y\": [5.0, 7.0, 8.0, 6.0, 5.0, 7.0, 6.0], \"type\": \"scatter\", \"uid\": \"839f94b7-5935-11e9-8c09-c8d3ffec4c05\"}],\n",
       "            {},\n",
       "            {\"showLink\": true, \"linkText\": \"Export to plot.ly\"}\n",
       "        ).then(function () {return Plotly.addFrames('20bb3b7e-3e43-404a-8475-21acc4c24e4c',{});}).then(function(){Plotly.animate('20bb3b7e-3e43-404a-8475-21acc4c24e4c');})\n",
       "        });</script>"
      ],
      "text/vnd.plotly.v1+html": [
       "<div id=\"20bb3b7e-3e43-404a-8475-21acc4c24e4c\" style=\"height: 525px; width: 100%;\" class=\"plotly-graph-div\"></div><script type=\"text/javascript\">require([\"plotly\"], function(Plotly) { window.PLOTLYENV=window.PLOTLYENV || {};window.PLOTLYENV.BASE_URL=\"https://plot.ly\";\n",
       "        Plotly.plot(\n",
       "            '20bb3b7e-3e43-404a-8475-21acc4c24e4c',\n",
       "            [{\"mode\": \"lines\", \"name\": \"Signal A\", \"x\": [\"2019-02-04\", \"2019-02-05\", \"2019-02-06\", \"2019-02-07\", \"2019-02-08\", \"2019-02-09\", \"2019-02-10\", \"2019-02-11\", \"2019-02-12\", \"2019-02-13\", \"2019-02-14\", \"2019-02-15\", \"2019-02-16\", \"2019-02-17\", \"2019-02-18\"], \"y\": [2.0, 1.0, 5.0, 1.0, 3.0, 2.0, 4.0, 7.0, 8.0, 6.0, 5.0, 4.0, 7.0, 6.0, 3.0], \"type\": \"scatter\", \"uid\": \"839f94b6-5935-11e9-b19b-c8d3ffec4c05\"}, {\"marker\": {\"color\": \"rgba(255, 50, 50, 0.75)\", \"size\": 20}, \"mode\": \"markers\", \"name\": \"Outliers\", \"x\": [\"2019-02-06\", \"2019-02-11\", \"2019-02-12\", \"2019-02-13\", \"2019-02-14\", \"2019-02-16\", \"2019-02-17\"], \"y\": [5.0, 7.0, 8.0, 6.0, 5.0, 7.0, 6.0], \"type\": \"scatter\", \"uid\": \"839f94b7-5935-11e9-8c09-c8d3ffec4c05\"}],\n",
       "            {},\n",
       "            {\"showLink\": true, \"linkText\": \"Export to plot.ly\"}\n",
       "        ).then(function () {return Plotly.addFrames('20bb3b7e-3e43-404a-8475-21acc4c24e4c',{});}).then(function(){Plotly.animate('20bb3b7e-3e43-404a-8475-21acc4c24e4c');})\n",
       "        });</script>"
      ]
     },
     "metadata": {},
     "output_type": "display_data"
    }
   ],
   "source": [
    "trace_1 = go.Scatter(\n",
    "    x = df.index,\n",
    "    y = df['A'],\n",
    "    mode = 'lines',\n",
    "    name = 'Signal A') # 创建'Signal A'，仅线图\n",
    "\n",
    "trace_markers = go.Scatter(\n",
    "    x = df[df['A'] >= 5].index,\n",
    "    y = df[df['A'] >= 5]['A'], # 标出所有A≥5的数据点\n",
    "    mode = 'markers', # 在这条trace里，我们只标注点\n",
    "    marker = dict(\n",
    "        size = 20, # 指定标注点的大小\n",
    "        color = 'rgba(255, 50, 50, 0.75)', # 指定颜色和不透明度\n",
    "    ),\n",
    "    name = 'Outliers') # 设置标注点的名称 \n",
    "\n",
    "fig = go.Figure(data=[trace_1, trace_markers]) # 将2条trace一并加入图中\n",
    "\n",
    "plotly.offline.iplot(fig) # 绘制"
   ]
  },
  {
   "cell_type": "markdown",
   "metadata": {},
   "source": [
    "### 2.6 强调区域"
   ]
  },
  {
   "cell_type": "markdown",
   "metadata": {},
   "source": [
    "有时候我们会需要对某个时间段或者某区段值进行强调，从而让观众更注意该区域，一种常用的做法是加个灰色框，我们可以在layout中完成该功能。"
   ]
  },
  {
   "cell_type": "code",
   "execution_count": 15,
   "metadata": {},
   "outputs": [
    {
     "data": {
      "application/vnd.plotly.v1+json": {
       "data": [
        {
         "mode": "lines",
         "name": "Signal A",
         "type": "scatter",
         "uid": "84075324-5935-11e9-8c3a-c8d3ffec4c05",
         "x": [
          "2019-02-04",
          "2019-02-05",
          "2019-02-06",
          "2019-02-07",
          "2019-02-08",
          "2019-02-09",
          "2019-02-10",
          "2019-02-11",
          "2019-02-12",
          "2019-02-13",
          "2019-02-14",
          "2019-02-15",
          "2019-02-16",
          "2019-02-17",
          "2019-02-18"
         ],
         "y": [
          2,
          1,
          5,
          1,
          3,
          2,
          4,
          7,
          8,
          6,
          5,
          4,
          7,
          6,
          3
         ]
        }
       ],
       "layout": {
        "shapes": [
         {
          "fillcolor": "#b3b3b3",
          "line": {
           "width": 0
          },
          "opacity": 0.2,
          "type": "rect",
          "x0": 0,
          "x1": 1,
          "xref": "paper",
          "y0": 0,
          "y1": 5,
          "yref": "y"
         }
        ],
        "showlegend": true,
        "yaxis": {
         "range": [
          0,
          10
         ]
        }
       }
      },
      "text/html": [
       "<div id=\"75754d3b-c0a6-4b83-a1fb-09362586054a\" style=\"height: 525px; width: 100%;\" class=\"plotly-graph-div\"></div><script type=\"text/javascript\">require([\"plotly\"], function(Plotly) { window.PLOTLYENV=window.PLOTLYENV || {};window.PLOTLYENV.BASE_URL=\"https://plot.ly\";\n",
       "        Plotly.plot(\n",
       "            '75754d3b-c0a6-4b83-a1fb-09362586054a',\n",
       "            [{\"mode\": \"lines\", \"name\": \"Signal A\", \"x\": [\"2019-02-04\", \"2019-02-05\", \"2019-02-06\", \"2019-02-07\", \"2019-02-08\", \"2019-02-09\", \"2019-02-10\", \"2019-02-11\", \"2019-02-12\", \"2019-02-13\", \"2019-02-14\", \"2019-02-15\", \"2019-02-16\", \"2019-02-17\", \"2019-02-18\"], \"y\": [2.0, 1.0, 5.0, 1.0, 3.0, 2.0, 4.0, 7.0, 8.0, 6.0, 5.0, 4.0, 7.0, 6.0, 3.0], \"type\": \"scatter\", \"uid\": \"84075324-5935-11e9-8c3a-c8d3ffec4c05\"}],\n",
       "            {\"shapes\": [{\"fillcolor\": \"#b3b3b3\", \"line\": {\"width\": 0}, \"opacity\": 0.2, \"type\": \"rect\", \"x0\": 0, \"x1\": 1, \"xref\": \"paper\", \"y0\": 0, \"y1\": 5, \"yref\": \"y\"}], \"showlegend\": true, \"yaxis\": {\"range\": [0, 10]}},\n",
       "            {\"showLink\": true, \"linkText\": \"Export to plot.ly\"}\n",
       "        ).then(function () {return Plotly.addFrames('75754d3b-c0a6-4b83-a1fb-09362586054a',{});}).then(function(){Plotly.animate('75754d3b-c0a6-4b83-a1fb-09362586054a');})\n",
       "        });</script>"
      ],
      "text/vnd.plotly.v1+html": [
       "<div id=\"75754d3b-c0a6-4b83-a1fb-09362586054a\" style=\"height: 525px; width: 100%;\" class=\"plotly-graph-div\"></div><script type=\"text/javascript\">require([\"plotly\"], function(Plotly) { window.PLOTLYENV=window.PLOTLYENV || {};window.PLOTLYENV.BASE_URL=\"https://plot.ly\";\n",
       "        Plotly.plot(\n",
       "            '75754d3b-c0a6-4b83-a1fb-09362586054a',\n",
       "            [{\"mode\": \"lines\", \"name\": \"Signal A\", \"x\": [\"2019-02-04\", \"2019-02-05\", \"2019-02-06\", \"2019-02-07\", \"2019-02-08\", \"2019-02-09\", \"2019-02-10\", \"2019-02-11\", \"2019-02-12\", \"2019-02-13\", \"2019-02-14\", \"2019-02-15\", \"2019-02-16\", \"2019-02-17\", \"2019-02-18\"], \"y\": [2.0, 1.0, 5.0, 1.0, 3.0, 2.0, 4.0, 7.0, 8.0, 6.0, 5.0, 4.0, 7.0, 6.0, 3.0], \"type\": \"scatter\", \"uid\": \"84075324-5935-11e9-8c3a-c8d3ffec4c05\"}],\n",
       "            {\"shapes\": [{\"fillcolor\": \"#b3b3b3\", \"line\": {\"width\": 0}, \"opacity\": 0.2, \"type\": \"rect\", \"x0\": 0, \"x1\": 1, \"xref\": \"paper\", \"y0\": 0, \"y1\": 5, \"yref\": \"y\"}], \"showlegend\": true, \"yaxis\": {\"range\": [0, 10]}},\n",
       "            {\"showLink\": true, \"linkText\": \"Export to plot.ly\"}\n",
       "        ).then(function () {return Plotly.addFrames('75754d3b-c0a6-4b83-a1fb-09362586054a',{});}).then(function(){Plotly.animate('75754d3b-c0a6-4b83-a1fb-09362586054a');})\n",
       "        });</script>"
      ]
     },
     "metadata": {},
     "output_type": "display_data"
    }
   ],
   "source": [
    "# 强调y轴的某部分\n",
    "trace_1 = go.Scatter(\n",
    "    x = df.index,\n",
    "    y = df['A'],\n",
    "    mode = 'lines',\n",
    "    name = 'Signal A') # 数据点仍然采用之前的'Signal A'\n",
    "\n",
    "layout = go.Layout(showlegend=True) # 我们之前画单线时都没有图例，这里通过调节layout强制显示图例\n",
    "layout.update( # layout可以随时update\n",
    "    shapes = [\n",
    "        {\n",
    "            'type': 'rect', # 加一个矩形框\n",
    "            'xref': 'paper', # 框的x范围，以整个图面的宽度为度量\n",
    "            'yref': 'y', # 框的y范围，以y轴为度量\n",
    "            'x0': 0,\n",
    "            'x1': 1, # 指定矩形框的宽度(x)，此处0 - 1即整个图面的长度，若为0 - 0.5则是半个图面\n",
    "            'y0': 0,\n",
    "            'y1': 5, # 指定矩形框的高度(y)，此处0 - 5即y轴上0 - 5的范围\n",
    "            'fillcolor': '#b3b3b3', # 指定填充颜色\n",
    "            'opacity': 0.2, # 指定不透明度\n",
    "            'line': {\n",
    "                'width': 0, # 指定该矩形外框线的宽度，0就是没有外框\n",
    "            }\n",
    "        }\n",
    "    ],\n",
    "    yaxis = dict(range=[0, 10]) # 指定y轴的范围\n",
    ")\n",
    "\n",
    "fig = go.Figure(data=[trace_1], layout=layout) \n",
    "\n",
    "plotly.offline.iplot(fig)"
   ]
  },
  {
   "cell_type": "code",
   "execution_count": 16,
   "metadata": {},
   "outputs": [
    {
     "data": {
      "application/vnd.plotly.v1+json": {
       "data": [
        {
         "mode": "lines",
         "name": "Signal A",
         "type": "scatter",
         "uid": "8413cdc0-5935-11e9-9caf-c8d3ffec4c05",
         "x": [
          "2019-02-04",
          "2019-02-05",
          "2019-02-06",
          "2019-02-07",
          "2019-02-08",
          "2019-02-09",
          "2019-02-10",
          "2019-02-11",
          "2019-02-12",
          "2019-02-13",
          "2019-02-14",
          "2019-02-15",
          "2019-02-16",
          "2019-02-17",
          "2019-02-18"
         ],
         "y": [
          2,
          1,
          5,
          1,
          3,
          2,
          4,
          7,
          8,
          6,
          5,
          4,
          7,
          6,
          3
         ]
        }
       ],
       "layout": {
        "plot_bgcolor": "rgba(199, 237, 204, 0.5)",
        "shapes": [
         {
          "fillcolor": "#b3b3b3",
          "line": {
           "width": 0
          },
          "opacity": 0.3,
          "type": "rect",
          "x0": "2019-02-09",
          "x1": "2019-02-13",
          "xref": "x",
          "y0": 0,
          "y1": 1,
          "yref": "paper"
         }
        ],
        "showlegend": true,
        "xaxis": {
         "range": [
          "2019-02-07",
          "2019-02-17"
         ]
        }
       }
      },
      "text/html": [
       "<div id=\"b29ce429-6bbb-4333-8ba1-8463342d49a6\" style=\"height: 525px; width: 100%;\" class=\"plotly-graph-div\"></div><script type=\"text/javascript\">require([\"plotly\"], function(Plotly) { window.PLOTLYENV=window.PLOTLYENV || {};window.PLOTLYENV.BASE_URL=\"https://plot.ly\";\n",
       "        Plotly.plot(\n",
       "            'b29ce429-6bbb-4333-8ba1-8463342d49a6',\n",
       "            [{\"mode\": \"lines\", \"name\": \"Signal A\", \"x\": [\"2019-02-04\", \"2019-02-05\", \"2019-02-06\", \"2019-02-07\", \"2019-02-08\", \"2019-02-09\", \"2019-02-10\", \"2019-02-11\", \"2019-02-12\", \"2019-02-13\", \"2019-02-14\", \"2019-02-15\", \"2019-02-16\", \"2019-02-17\", \"2019-02-18\"], \"y\": [2.0, 1.0, 5.0, 1.0, 3.0, 2.0, 4.0, 7.0, 8.0, 6.0, 5.0, 4.0, 7.0, 6.0, 3.0], \"type\": \"scatter\", \"uid\": \"8413cdc0-5935-11e9-9caf-c8d3ffec4c05\"}],\n",
       "            {\"plot_bgcolor\": \"rgba(199, 237, 204, 0.5)\", \"shapes\": [{\"fillcolor\": \"#b3b3b3\", \"line\": {\"width\": 0}, \"opacity\": 0.3, \"type\": \"rect\", \"x0\": \"2019-02-09\", \"x1\": \"2019-02-13\", \"xref\": \"x\", \"y0\": 0, \"y1\": 1, \"yref\": \"paper\"}], \"showlegend\": true, \"xaxis\": {\"range\": [\"2019-02-07\", \"2019-02-17\"]}},\n",
       "            {\"showLink\": true, \"linkText\": \"Export to plot.ly\"}\n",
       "        ).then(function () {return Plotly.addFrames('b29ce429-6bbb-4333-8ba1-8463342d49a6',{});}).then(function(){Plotly.animate('b29ce429-6bbb-4333-8ba1-8463342d49a6');})\n",
       "        });</script>"
      ],
      "text/vnd.plotly.v1+html": [
       "<div id=\"b29ce429-6bbb-4333-8ba1-8463342d49a6\" style=\"height: 525px; width: 100%;\" class=\"plotly-graph-div\"></div><script type=\"text/javascript\">require([\"plotly\"], function(Plotly) { window.PLOTLYENV=window.PLOTLYENV || {};window.PLOTLYENV.BASE_URL=\"https://plot.ly\";\n",
       "        Plotly.plot(\n",
       "            'b29ce429-6bbb-4333-8ba1-8463342d49a6',\n",
       "            [{\"mode\": \"lines\", \"name\": \"Signal A\", \"x\": [\"2019-02-04\", \"2019-02-05\", \"2019-02-06\", \"2019-02-07\", \"2019-02-08\", \"2019-02-09\", \"2019-02-10\", \"2019-02-11\", \"2019-02-12\", \"2019-02-13\", \"2019-02-14\", \"2019-02-15\", \"2019-02-16\", \"2019-02-17\", \"2019-02-18\"], \"y\": [2.0, 1.0, 5.0, 1.0, 3.0, 2.0, 4.0, 7.0, 8.0, 6.0, 5.0, 4.0, 7.0, 6.0, 3.0], \"type\": \"scatter\", \"uid\": \"8413cdc0-5935-11e9-9caf-c8d3ffec4c05\"}],\n",
       "            {\"plot_bgcolor\": \"rgba(199, 237, 204, 0.5)\", \"shapes\": [{\"fillcolor\": \"#b3b3b3\", \"line\": {\"width\": 0}, \"opacity\": 0.3, \"type\": \"rect\", \"x0\": \"2019-02-09\", \"x1\": \"2019-02-13\", \"xref\": \"x\", \"y0\": 0, \"y1\": 1, \"yref\": \"paper\"}], \"showlegend\": true, \"xaxis\": {\"range\": [\"2019-02-07\", \"2019-02-17\"]}},\n",
       "            {\"showLink\": true, \"linkText\": \"Export to plot.ly\"}\n",
       "        ).then(function () {return Plotly.addFrames('b29ce429-6bbb-4333-8ba1-8463342d49a6',{});}).then(function(){Plotly.animate('b29ce429-6bbb-4333-8ba1-8463342d49a6');})\n",
       "        });</script>"
      ]
     },
     "metadata": {},
     "output_type": "display_data"
    }
   ],
   "source": [
    "# 强调x轴的某部分\n",
    "trace_1 = go.Scatter(\n",
    "    x = df.index,\n",
    "    y = df['A'],\n",
    "    mode = 'lines',\n",
    "    name = 'Signal A') # 数据点仍然采用之前的'Signal A'\n",
    "\n",
    "layout = go.Layout(showlegend=True) # 我们之前画单线时都没有图例，这里通过调节layout强制显示图例\n",
    "layout.update( # layout可以随时update\n",
    "    plot_bgcolor = 'rgba(199, 237, 204, 0.5)', # 顺便换个背景色\n",
    "    shapes = [\n",
    "        {\n",
    "            'type': 'rect', # 加一个矩形框\n",
    "            'xref': 'x', # 框的x范围，以y轴为度量\n",
    "            'yref': 'paper', # 框的y范围，以整个图面的高度为度量\n",
    "            'x0': '2019-02-09',\n",
    "            'x1': '2019-02-13', # 指定矩形框的宽度(x)，此处通过字符串指定了特定日期\n",
    "            'y0': 0,\n",
    "            'y1': 1, # 指定矩形框的高度(y)，此处0 - 1即整个图面的长度\n",
    "            'fillcolor': '#b3b3b3', # 指定填充颜色\n",
    "            'opacity': 0.3, # 指定不透明度\n",
    "            'line': {\n",
    "                'width': 0, # 指定该矩形外框线的宽度，0就是没有外框\n",
    "            }\n",
    "        }\n",
    "    ],\n",
    "    xaxis = dict(range=['2019-02-07', '2019-02-17']) # 指定x轴的范围\n",
    ")\n",
    "\n",
    "fig = go.Figure(data=[trace_1], layout=layout) \n",
    "\n",
    "plotly.offline.iplot(fig)"
   ]
  },
  {
   "cell_type": "markdown",
   "metadata": {
    "collapsed": true
   },
   "source": [
    "总的来说，plotly的作图相对还是比较有规律的。  \n",
    "当我们不需要分图时，我们最终的图面go.Figure()由两部分组成，一部分用于存放数据，即data，另一部分则是布局与图面设置，即layout。    \n",
    "每一组数据放在trace里，多个trace放在列表里，然后将列表传入data来完成数据的传入。  \n",
    "trace中除了可以指定数据，还可以指定该数据的呈现方式，如线和店的形式、颜色等等。  \n",
    "至于layout，我们可以先实例化一个最简单的go.Layout()，然后通过layout.update()来不断加入我们对布局与图面的控制参数，例如x轴、y轴、标题、背景色等等。  \n",
    "需要分图的情况基本也是一样的，我们用tools.make_subplots()完成分图，用append_trace()将每组数据指定到不同的分图上，其他的设置基本都大同小异。"
   ]
  },
  {
   "cell_type": "markdown",
   "metadata": {
    "collapsed": true
   },
   "source": [
    "## 3. 条形图"
   ]
  },
  {
   "cell_type": "markdown",
   "metadata": {},
   "source": [
    "了解了线图的绘制之后，条形图就非常简单了，因为跟线图的绘制方式基本上是差不多的，很多时候只是将go.Scatter换成了go.Bar而已。"
   ]
  },
  {
   "cell_type": "markdown",
   "metadata": {},
   "source": [
    "### 3.1 单一数据"
   ]
  },
  {
   "cell_type": "code",
   "execution_count": 17,
   "metadata": {},
   "outputs": [
    {
     "data": {
      "application/vnd.plotly.v1+json": {
       "data": [
        {
         "marker": {
          "color": "rgb(255, 100, 100)",
          "line": {
           "color": "rgb(0, 0, 0)",
           "width": 1
          }
         },
         "name": "Signal A",
         "type": "bar",
         "uid": "8512c8c0-5935-11e9-8b95-c8d3ffec4c05",
         "x": [
          "2019-02-04",
          "2019-02-05",
          "2019-02-06",
          "2019-02-07",
          "2019-02-08",
          "2019-02-09",
          "2019-02-10",
          "2019-02-11",
          "2019-02-12",
          "2019-02-13",
          "2019-02-14",
          "2019-02-15",
          "2019-02-16",
          "2019-02-17",
          "2019-02-18"
         ],
         "y": [
          2,
          1,
          5,
          1,
          3,
          2,
          4,
          7,
          8,
          6,
          5,
          4,
          7,
          6,
          3
         ]
        }
       ],
       "layout": {
        "bargap": 0.5,
        "showlegend": true
       }
      },
      "text/html": [
       "<div id=\"c09178ff-f38f-4214-ba82-c66ad069889b\" style=\"height: 525px; width: 100%;\" class=\"plotly-graph-div\"></div><script type=\"text/javascript\">require([\"plotly\"], function(Plotly) { window.PLOTLYENV=window.PLOTLYENV || {};window.PLOTLYENV.BASE_URL=\"https://plot.ly\";\n",
       "        Plotly.plot(\n",
       "            'c09178ff-f38f-4214-ba82-c66ad069889b',\n",
       "            [{\"marker\": {\"color\": \"rgb(255, 100, 100)\", \"line\": {\"color\": \"rgb(0, 0, 0)\", \"width\": 1}}, \"name\": \"Signal A\", \"x\": [\"2019-02-04\", \"2019-02-05\", \"2019-02-06\", \"2019-02-07\", \"2019-02-08\", \"2019-02-09\", \"2019-02-10\", \"2019-02-11\", \"2019-02-12\", \"2019-02-13\", \"2019-02-14\", \"2019-02-15\", \"2019-02-16\", \"2019-02-17\", \"2019-02-18\"], \"y\": [2.0, 1.0, 5.0, 1.0, 3.0, 2.0, 4.0, 7.0, 8.0, 6.0, 5.0, 4.0, 7.0, 6.0, 3.0], \"type\": \"bar\", \"uid\": \"8512c8c0-5935-11e9-8b95-c8d3ffec4c05\"}],\n",
       "            {\"bargap\": 0.5, \"showlegend\": true},\n",
       "            {\"showLink\": true, \"linkText\": \"Export to plot.ly\"}\n",
       "        ).then(function () {return Plotly.addFrames('c09178ff-f38f-4214-ba82-c66ad069889b',{});}).then(function(){Plotly.animate('c09178ff-f38f-4214-ba82-c66ad069889b');})\n",
       "        });</script>"
      ],
      "text/vnd.plotly.v1+html": [
       "<div id=\"c09178ff-f38f-4214-ba82-c66ad069889b\" style=\"height: 525px; width: 100%;\" class=\"plotly-graph-div\"></div><script type=\"text/javascript\">require([\"plotly\"], function(Plotly) { window.PLOTLYENV=window.PLOTLYENV || {};window.PLOTLYENV.BASE_URL=\"https://plot.ly\";\n",
       "        Plotly.plot(\n",
       "            'c09178ff-f38f-4214-ba82-c66ad069889b',\n",
       "            [{\"marker\": {\"color\": \"rgb(255, 100, 100)\", \"line\": {\"color\": \"rgb(0, 0, 0)\", \"width\": 1}}, \"name\": \"Signal A\", \"x\": [\"2019-02-04\", \"2019-02-05\", \"2019-02-06\", \"2019-02-07\", \"2019-02-08\", \"2019-02-09\", \"2019-02-10\", \"2019-02-11\", \"2019-02-12\", \"2019-02-13\", \"2019-02-14\", \"2019-02-15\", \"2019-02-16\", \"2019-02-17\", \"2019-02-18\"], \"y\": [2.0, 1.0, 5.0, 1.0, 3.0, 2.0, 4.0, 7.0, 8.0, 6.0, 5.0, 4.0, 7.0, 6.0, 3.0], \"type\": \"bar\", \"uid\": \"8512c8c0-5935-11e9-8b95-c8d3ffec4c05\"}],\n",
       "            {\"bargap\": 0.5, \"showlegend\": true},\n",
       "            {\"showLink\": true, \"linkText\": \"Export to plot.ly\"}\n",
       "        ).then(function () {return Plotly.addFrames('c09178ff-f38f-4214-ba82-c66ad069889b',{});}).then(function(){Plotly.animate('c09178ff-f38f-4214-ba82-c66ad069889b');})\n",
       "        });</script>"
      ]
     },
     "metadata": {},
     "output_type": "display_data"
    }
   ],
   "source": [
    "# 此处我们仅对某一列数据进行条形图绘制，整个过程跟绘制线图基本没有区别\n",
    "trace_1 = go.Bar(\n",
    "    x = df.index,\n",
    "    y = df['A'],\n",
    "    name = 'Signal A',\n",
    "    marker = dict( # marker用来修改条形的颜色等属性\n",
    "        color = 'rgb(255, 100, 100)',\n",
    "        line = dict(\n",
    "            color = 'rgb(0, 0, 0)', \n",
    "            width = 1 # line的width > 0时，条形将具有外框线\n",
    "        )\n",
    "    )\n",
    ") # 依旧需要创建一个trace\n",
    "\n",
    "layout = go.Layout(showlegend=True, bargap=0.5) # layout中的bargap这个参数可用于调节条形的粗细， 越大条越细\n",
    "\n",
    "fig = go.Figure(data=[trace_1], layout=layout) \n",
    "\n",
    "plotly.offline.iplot(fig)"
   ]
  },
  {
   "cell_type": "markdown",
   "metadata": {},
   "source": [
    "### 3.2 多数据同图"
   ]
  },
  {
   "cell_type": "code",
   "execution_count": 18,
   "metadata": {
    "scrolled": false
   },
   "outputs": [
    {
     "data": {
      "application/vnd.plotly.v1+json": {
       "data": [
        {
         "name": "Signal A",
         "type": "bar",
         "uid": "851a3dd8-5935-11e9-bfca-c8d3ffec4c05",
         "x": [
          "2019-02-04",
          "2019-02-05",
          "2019-02-06",
          "2019-02-07",
          "2019-02-08",
          "2019-02-09",
          "2019-02-10",
          "2019-02-11",
          "2019-02-12",
          "2019-02-13",
          "2019-02-14",
          "2019-02-15",
          "2019-02-16",
          "2019-02-17",
          "2019-02-18"
         ],
         "y": [
          2,
          1,
          5,
          1,
          3,
          2,
          4,
          7,
          8,
          6,
          5,
          4,
          7,
          6,
          3
         ]
        },
        {
         "name": "Signal B",
         "type": "bar",
         "uid": "851a3dd9-5935-11e9-929a-c8d3ffec4c05",
         "x": [
          "2019-02-04",
          "2019-02-05",
          "2019-02-06",
          "2019-02-07",
          "2019-02-08",
          "2019-02-09",
          "2019-02-10",
          "2019-02-11",
          "2019-02-12",
          "2019-02-13",
          "2019-02-14",
          "2019-02-15",
          "2019-02-16",
          "2019-02-17",
          "2019-02-18"
         ],
         "y": [
          1,
          4,
          2,
          6,
          4,
          3,
          5,
          6,
          8,
          7,
          6,
          5,
          3,
          1,
          1
         ]
        }
       ],
       "layout": {}
      },
      "text/html": [
       "<div id=\"a7950c1e-0c90-4bd7-9cd0-8c35d5078814\" style=\"height: 525px; width: 100%;\" class=\"plotly-graph-div\"></div><script type=\"text/javascript\">require([\"plotly\"], function(Plotly) { window.PLOTLYENV=window.PLOTLYENV || {};window.PLOTLYENV.BASE_URL=\"https://plot.ly\";\n",
       "        Plotly.plot(\n",
       "            'a7950c1e-0c90-4bd7-9cd0-8c35d5078814',\n",
       "            [{\"name\": \"Signal A\", \"x\": [\"2019-02-04\", \"2019-02-05\", \"2019-02-06\", \"2019-02-07\", \"2019-02-08\", \"2019-02-09\", \"2019-02-10\", \"2019-02-11\", \"2019-02-12\", \"2019-02-13\", \"2019-02-14\", \"2019-02-15\", \"2019-02-16\", \"2019-02-17\", \"2019-02-18\"], \"y\": [2.0, 1.0, 5.0, 1.0, 3.0, 2.0, 4.0, 7.0, 8.0, 6.0, 5.0, 4.0, 7.0, 6.0, 3.0], \"type\": \"bar\", \"uid\": \"851a3dd8-5935-11e9-bfca-c8d3ffec4c05\"}, {\"name\": \"Signal B\", \"x\": [\"2019-02-04\", \"2019-02-05\", \"2019-02-06\", \"2019-02-07\", \"2019-02-08\", \"2019-02-09\", \"2019-02-10\", \"2019-02-11\", \"2019-02-12\", \"2019-02-13\", \"2019-02-14\", \"2019-02-15\", \"2019-02-16\", \"2019-02-17\", \"2019-02-18\"], \"y\": [1.0, 4.0, 2.0, 6.0, 4.0, 3.0, 5.0, 6.0, 8.0, 7.0, 6.0, 5.0, 3.0, 1.0, 1.0], \"type\": \"bar\", \"uid\": \"851a3dd9-5935-11e9-929a-c8d3ffec4c05\"}],\n",
       "            {},\n",
       "            {\"showLink\": true, \"linkText\": \"Export to plot.ly\"}\n",
       "        ).then(function () {return Plotly.addFrames('a7950c1e-0c90-4bd7-9cd0-8c35d5078814',{});}).then(function(){Plotly.animate('a7950c1e-0c90-4bd7-9cd0-8c35d5078814');})\n",
       "        });</script>"
      ],
      "text/vnd.plotly.v1+html": [
       "<div id=\"a7950c1e-0c90-4bd7-9cd0-8c35d5078814\" style=\"height: 525px; width: 100%;\" class=\"plotly-graph-div\"></div><script type=\"text/javascript\">require([\"plotly\"], function(Plotly) { window.PLOTLYENV=window.PLOTLYENV || {};window.PLOTLYENV.BASE_URL=\"https://plot.ly\";\n",
       "        Plotly.plot(\n",
       "            'a7950c1e-0c90-4bd7-9cd0-8c35d5078814',\n",
       "            [{\"name\": \"Signal A\", \"x\": [\"2019-02-04\", \"2019-02-05\", \"2019-02-06\", \"2019-02-07\", \"2019-02-08\", \"2019-02-09\", \"2019-02-10\", \"2019-02-11\", \"2019-02-12\", \"2019-02-13\", \"2019-02-14\", \"2019-02-15\", \"2019-02-16\", \"2019-02-17\", \"2019-02-18\"], \"y\": [2.0, 1.0, 5.0, 1.0, 3.0, 2.0, 4.0, 7.0, 8.0, 6.0, 5.0, 4.0, 7.0, 6.0, 3.0], \"type\": \"bar\", \"uid\": \"851a3dd8-5935-11e9-bfca-c8d3ffec4c05\"}, {\"name\": \"Signal B\", \"x\": [\"2019-02-04\", \"2019-02-05\", \"2019-02-06\", \"2019-02-07\", \"2019-02-08\", \"2019-02-09\", \"2019-02-10\", \"2019-02-11\", \"2019-02-12\", \"2019-02-13\", \"2019-02-14\", \"2019-02-15\", \"2019-02-16\", \"2019-02-17\", \"2019-02-18\"], \"y\": [1.0, 4.0, 2.0, 6.0, 4.0, 3.0, 5.0, 6.0, 8.0, 7.0, 6.0, 5.0, 3.0, 1.0, 1.0], \"type\": \"bar\", \"uid\": \"851a3dd9-5935-11e9-929a-c8d3ffec4c05\"}],\n",
       "            {},\n",
       "            {\"showLink\": true, \"linkText\": \"Export to plot.ly\"}\n",
       "        ).then(function () {return Plotly.addFrames('a7950c1e-0c90-4bd7-9cd0-8c35d5078814',{});}).then(function(){Plotly.animate('a7950c1e-0c90-4bd7-9cd0-8c35d5078814');})\n",
       "        });</script>"
      ]
     },
     "metadata": {},
     "output_type": "display_data"
    }
   ],
   "source": [
    "# 此处与条形图也并无太大区别，依旧是创建2条trace并加入data中\n",
    "trace_1 = go.Bar(\n",
    "    x = df.index,\n",
    "    y = df['A'],\n",
    "    name = 'Signal A') # 创建一个trace\n",
    "\n",
    "trace_2 = go.Bar(\n",
    "    x = df.index,\n",
    "    y = df['B'],\n",
    "    name = 'Signal B') # 创建第二个trace\n",
    "\n",
    "fig = go.Figure(data=[trace_1, trace_2]) \n",
    "\n",
    "plotly.offline.iplot(fig)"
   ]
  },
  {
   "cell_type": "code",
   "execution_count": 19,
   "metadata": {},
   "outputs": [
    {
     "data": {
      "application/vnd.plotly.v1+json": {
       "data": [
        {
         "name": "Signal A",
         "type": "bar",
         "uid": "8524e408-5935-11e9-bfb3-c8d3ffec4c05",
         "x": [
          "2019-02-04",
          "2019-02-05",
          "2019-02-06",
          "2019-02-07",
          "2019-02-08",
          "2019-02-09",
          "2019-02-10",
          "2019-02-11",
          "2019-02-12",
          "2019-02-13",
          "2019-02-14",
          "2019-02-15",
          "2019-02-16",
          "2019-02-17",
          "2019-02-18"
         ],
         "y": [
          2,
          1,
          5,
          1,
          3,
          2,
          4,
          7,
          8,
          6,
          5,
          4,
          7,
          6,
          3
         ]
        },
        {
         "name": "Signal B",
         "type": "bar",
         "uid": "8524e409-5935-11e9-9899-c8d3ffec4c05",
         "x": [
          "2019-02-04",
          "2019-02-05",
          "2019-02-06",
          "2019-02-07",
          "2019-02-08",
          "2019-02-09",
          "2019-02-10",
          "2019-02-11",
          "2019-02-12",
          "2019-02-13",
          "2019-02-14",
          "2019-02-15",
          "2019-02-16",
          "2019-02-17",
          "2019-02-18"
         ],
         "y": [
          1,
          4,
          2,
          6,
          4,
          3,
          5,
          6,
          8,
          7,
          6,
          5,
          3,
          1,
          1
         ]
        }
       ],
       "layout": {
        "barmode": "stack"
       }
      },
      "text/html": [
       "<div id=\"e85db241-a58b-48f0-acda-6696e2279fa5\" style=\"height: 525px; width: 100%;\" class=\"plotly-graph-div\"></div><script type=\"text/javascript\">require([\"plotly\"], function(Plotly) { window.PLOTLYENV=window.PLOTLYENV || {};window.PLOTLYENV.BASE_URL=\"https://plot.ly\";\n",
       "        Plotly.plot(\n",
       "            'e85db241-a58b-48f0-acda-6696e2279fa5',\n",
       "            [{\"name\": \"Signal A\", \"x\": [\"2019-02-04\", \"2019-02-05\", \"2019-02-06\", \"2019-02-07\", \"2019-02-08\", \"2019-02-09\", \"2019-02-10\", \"2019-02-11\", \"2019-02-12\", \"2019-02-13\", \"2019-02-14\", \"2019-02-15\", \"2019-02-16\", \"2019-02-17\", \"2019-02-18\"], \"y\": [2.0, 1.0, 5.0, 1.0, 3.0, 2.0, 4.0, 7.0, 8.0, 6.0, 5.0, 4.0, 7.0, 6.0, 3.0], \"type\": \"bar\", \"uid\": \"8524e408-5935-11e9-bfb3-c8d3ffec4c05\"}, {\"name\": \"Signal B\", \"x\": [\"2019-02-04\", \"2019-02-05\", \"2019-02-06\", \"2019-02-07\", \"2019-02-08\", \"2019-02-09\", \"2019-02-10\", \"2019-02-11\", \"2019-02-12\", \"2019-02-13\", \"2019-02-14\", \"2019-02-15\", \"2019-02-16\", \"2019-02-17\", \"2019-02-18\"], \"y\": [1.0, 4.0, 2.0, 6.0, 4.0, 3.0, 5.0, 6.0, 8.0, 7.0, 6.0, 5.0, 3.0, 1.0, 1.0], \"type\": \"bar\", \"uid\": \"8524e409-5935-11e9-9899-c8d3ffec4c05\"}],\n",
       "            {\"barmode\": \"stack\"},\n",
       "            {\"showLink\": true, \"linkText\": \"Export to plot.ly\"}\n",
       "        ).then(function () {return Plotly.addFrames('e85db241-a58b-48f0-acda-6696e2279fa5',{});}).then(function(){Plotly.animate('e85db241-a58b-48f0-acda-6696e2279fa5');})\n",
       "        });</script>"
      ],
      "text/vnd.plotly.v1+html": [
       "<div id=\"e85db241-a58b-48f0-acda-6696e2279fa5\" style=\"height: 525px; width: 100%;\" class=\"plotly-graph-div\"></div><script type=\"text/javascript\">require([\"plotly\"], function(Plotly) { window.PLOTLYENV=window.PLOTLYENV || {};window.PLOTLYENV.BASE_URL=\"https://plot.ly\";\n",
       "        Plotly.plot(\n",
       "            'e85db241-a58b-48f0-acda-6696e2279fa5',\n",
       "            [{\"name\": \"Signal A\", \"x\": [\"2019-02-04\", \"2019-02-05\", \"2019-02-06\", \"2019-02-07\", \"2019-02-08\", \"2019-02-09\", \"2019-02-10\", \"2019-02-11\", \"2019-02-12\", \"2019-02-13\", \"2019-02-14\", \"2019-02-15\", \"2019-02-16\", \"2019-02-17\", \"2019-02-18\"], \"y\": [2.0, 1.0, 5.0, 1.0, 3.0, 2.0, 4.0, 7.0, 8.0, 6.0, 5.0, 4.0, 7.0, 6.0, 3.0], \"type\": \"bar\", \"uid\": \"8524e408-5935-11e9-bfb3-c8d3ffec4c05\"}, {\"name\": \"Signal B\", \"x\": [\"2019-02-04\", \"2019-02-05\", \"2019-02-06\", \"2019-02-07\", \"2019-02-08\", \"2019-02-09\", \"2019-02-10\", \"2019-02-11\", \"2019-02-12\", \"2019-02-13\", \"2019-02-14\", \"2019-02-15\", \"2019-02-16\", \"2019-02-17\", \"2019-02-18\"], \"y\": [1.0, 4.0, 2.0, 6.0, 4.0, 3.0, 5.0, 6.0, 8.0, 7.0, 6.0, 5.0, 3.0, 1.0, 1.0], \"type\": \"bar\", \"uid\": \"8524e409-5935-11e9-9899-c8d3ffec4c05\"}],\n",
       "            {\"barmode\": \"stack\"},\n",
       "            {\"showLink\": true, \"linkText\": \"Export to plot.ly\"}\n",
       "        ).then(function () {return Plotly.addFrames('e85db241-a58b-48f0-acda-6696e2279fa5',{});}).then(function(){Plotly.animate('e85db241-a58b-48f0-acda-6696e2279fa5');})\n",
       "        });</script>"
      ]
     },
     "metadata": {},
     "output_type": "display_data"
    }
   ],
   "source": [
    "# 堆积图\n",
    "trace_1 = go.Bar(\n",
    "    x = df.index,\n",
    "    y = df['A'],\n",
    "    name = 'Signal A') # 创建一个trace\n",
    "\n",
    "trace_2 = go.Bar(\n",
    "    x = df.index,\n",
    "    y = df['B'],\n",
    "    name = 'Signal B') # 创建第二个trace\n",
    "\n",
    "layout = go.Layout(barmode='stack') # 默认的barmode为group，改成stack即可形成堆积图\n",
    "\n",
    "fig = go.Figure(data=[trace_1, trace_2], layout=layout) \n",
    "\n",
    "plotly.offline.iplot(fig)"
   ]
  },
  {
   "cell_type": "markdown",
   "metadata": {},
   "source": [
    "### 3.3 多数据分图"
   ]
  },
  {
   "cell_type": "code",
   "execution_count": 20,
   "metadata": {},
   "outputs": [
    {
     "name": "stdout",
     "output_type": "stream",
     "text": [
      "This is the format of your plot grid:\n",
      "[ (1,1) x1,y1 ]\n",
      "[ (2,1) x2,y2 ]\n",
      "\n"
     ]
    },
    {
     "data": {
      "application/vnd.plotly.v1+json": {
       "data": [
        {
         "name": "Signal A",
         "type": "bar",
         "uid": "855a1ef4-5935-11e9-af4d-c8d3ffec4c05",
         "x": [
          "2019-02-05",
          "2019-02-06",
          "2019-02-07",
          "2019-02-08",
          "2019-02-09",
          "2019-02-10",
          "2019-02-11",
          "2019-02-12",
          "2019-02-13",
          "2019-02-14",
          "2019-02-15",
          "2019-02-16",
          "2019-02-17",
          "2019-02-18",
          "2019-02-19"
         ],
         "xaxis": "x",
         "y": [
          2,
          1,
          5,
          1,
          3,
          2,
          4,
          7,
          8,
          6,
          5,
          4,
          7,
          6,
          3
         ],
         "yaxis": "y"
        },
        {
         "name": "Signal B",
         "type": "bar",
         "uid": "855ab9b6-5935-11e9-86f5-c8d3ffec4c05",
         "x": [
          "2019-02-10",
          "2019-02-11",
          "2019-02-12",
          "2019-02-13",
          "2019-02-14",
          "2019-02-15",
          "2019-02-16",
          "2019-02-17",
          "2019-02-18",
          "2019-02-19",
          "2019-02-20",
          "2019-02-21",
          "2019-02-22",
          "2019-02-23",
          "2019-02-24"
         ],
         "xaxis": "x2",
         "y": [
          1,
          4,
          2,
          6,
          4,
          3,
          5,
          6,
          8,
          7,
          6,
          5,
          3,
          1,
          1
         ],
         "yaxis": "y2"
        }
       ],
       "layout": {
        "height": 600,
        "width": 800,
        "xaxis": {
         "anchor": "y",
         "domain": [
          0,
          1
         ]
        },
        "xaxis2": {
         "anchor": "y2",
         "domain": [
          0,
          1
         ]
        },
        "yaxis": {
         "anchor": "x",
         "domain": [
          0.575,
          1
         ]
        },
        "yaxis2": {
         "anchor": "x2",
         "domain": [
          0,
          0.425
         ]
        }
       }
      },
      "text/html": [
       "<div id=\"a8d3e350-29fd-4ab7-ae7f-7578e1e3dd71\" style=\"height: 600px; width: 800px;\" class=\"plotly-graph-div\"></div><script type=\"text/javascript\">require([\"plotly\"], function(Plotly) { window.PLOTLYENV=window.PLOTLYENV || {};window.PLOTLYENV.BASE_URL=\"https://plot.ly\";\n",
       "        Plotly.plot(\n",
       "            'a8d3e350-29fd-4ab7-ae7f-7578e1e3dd71',\n",
       "            [{\"name\": \"Signal A\", \"x\": [\"2019-02-05\", \"2019-02-06\", \"2019-02-07\", \"2019-02-08\", \"2019-02-09\", \"2019-02-10\", \"2019-02-11\", \"2019-02-12\", \"2019-02-13\", \"2019-02-14\", \"2019-02-15\", \"2019-02-16\", \"2019-02-17\", \"2019-02-18\", \"2019-02-19\"], \"y\": [2.0, 1.0, 5.0, 1.0, 3.0, 2.0, 4.0, 7.0, 8.0, 6.0, 5.0, 4.0, 7.0, 6.0, 3.0], \"type\": \"bar\", \"uid\": \"855a1ef4-5935-11e9-af4d-c8d3ffec4c05\", \"xaxis\": \"x\", \"yaxis\": \"y\"}, {\"name\": \"Signal B\", \"x\": [\"2019-02-10\", \"2019-02-11\", \"2019-02-12\", \"2019-02-13\", \"2019-02-14\", \"2019-02-15\", \"2019-02-16\", \"2019-02-17\", \"2019-02-18\", \"2019-02-19\", \"2019-02-20\", \"2019-02-21\", \"2019-02-22\", \"2019-02-23\", \"2019-02-24\"], \"y\": [1.0, 4.0, 2.0, 6.0, 4.0, 3.0, 5.0, 6.0, 8.0, 7.0, 6.0, 5.0, 3.0, 1.0, 1.0], \"yaxis\": \"y2\", \"type\": \"bar\", \"uid\": \"855ab9b6-5935-11e9-86f5-c8d3ffec4c05\", \"xaxis\": \"x2\"}],\n",
       "            {\"xaxis\": {\"anchor\": \"y\", \"domain\": [0.0, 1.0]}, \"yaxis\": {\"anchor\": \"x\", \"domain\": [0.575, 1.0]}, \"xaxis2\": {\"anchor\": \"y2\", \"domain\": [0.0, 1.0]}, \"yaxis2\": {\"anchor\": \"x2\", \"domain\": [0.0, 0.425]}, \"height\": 600, \"width\": 800},\n",
       "            {\"showLink\": true, \"linkText\": \"Export to plot.ly\"}\n",
       "        ).then(function () {return Plotly.addFrames('a8d3e350-29fd-4ab7-ae7f-7578e1e3dd71',{});}).then(function(){Plotly.animate('a8d3e350-29fd-4ab7-ae7f-7578e1e3dd71');})\n",
       "        });</script>"
      ],
      "text/vnd.plotly.v1+html": [
       "<div id=\"a8d3e350-29fd-4ab7-ae7f-7578e1e3dd71\" style=\"height: 600px; width: 800px;\" class=\"plotly-graph-div\"></div><script type=\"text/javascript\">require([\"plotly\"], function(Plotly) { window.PLOTLYENV=window.PLOTLYENV || {};window.PLOTLYENV.BASE_URL=\"https://plot.ly\";\n",
       "        Plotly.plot(\n",
       "            'a8d3e350-29fd-4ab7-ae7f-7578e1e3dd71',\n",
       "            [{\"name\": \"Signal A\", \"x\": [\"2019-02-05\", \"2019-02-06\", \"2019-02-07\", \"2019-02-08\", \"2019-02-09\", \"2019-02-10\", \"2019-02-11\", \"2019-02-12\", \"2019-02-13\", \"2019-02-14\", \"2019-02-15\", \"2019-02-16\", \"2019-02-17\", \"2019-02-18\", \"2019-02-19\"], \"y\": [2.0, 1.0, 5.0, 1.0, 3.0, 2.0, 4.0, 7.0, 8.0, 6.0, 5.0, 4.0, 7.0, 6.0, 3.0], \"type\": \"bar\", \"uid\": \"855a1ef4-5935-11e9-af4d-c8d3ffec4c05\", \"xaxis\": \"x\", \"yaxis\": \"y\"}, {\"name\": \"Signal B\", \"x\": [\"2019-02-10\", \"2019-02-11\", \"2019-02-12\", \"2019-02-13\", \"2019-02-14\", \"2019-02-15\", \"2019-02-16\", \"2019-02-17\", \"2019-02-18\", \"2019-02-19\", \"2019-02-20\", \"2019-02-21\", \"2019-02-22\", \"2019-02-23\", \"2019-02-24\"], \"y\": [1.0, 4.0, 2.0, 6.0, 4.0, 3.0, 5.0, 6.0, 8.0, 7.0, 6.0, 5.0, 3.0, 1.0, 1.0], \"yaxis\": \"y2\", \"type\": \"bar\", \"uid\": \"855ab9b6-5935-11e9-86f5-c8d3ffec4c05\", \"xaxis\": \"x2\"}],\n",
       "            {\"xaxis\": {\"anchor\": \"y\", \"domain\": [0.0, 1.0]}, \"yaxis\": {\"anchor\": \"x\", \"domain\": [0.575, 1.0]}, \"xaxis2\": {\"anchor\": \"y2\", \"domain\": [0.0, 1.0]}, \"yaxis2\": {\"anchor\": \"x2\", \"domain\": [0.0, 0.425]}, \"height\": 600, \"width\": 800},\n",
       "            {\"showLink\": true, \"linkText\": \"Export to plot.ly\"}\n",
       "        ).then(function () {return Plotly.addFrames('a8d3e350-29fd-4ab7-ae7f-7578e1e3dd71',{});}).then(function(){Plotly.animate('a8d3e350-29fd-4ab7-ae7f-7578e1e3dd71');})\n",
       "        });</script>"
      ]
     },
     "metadata": {},
     "output_type": "display_data"
    }
   ],
   "source": [
    "# 与条形图一样，坐标互相独立\n",
    "trace_1 = go.Bar(\n",
    "    x = pd.date_range('2019/02/05', periods=15),\n",
    "    y = df['A'],\n",
    "    name = 'Signal A') # 'Signal A'为从2019-02-05开始的15天\n",
    "\n",
    "trace_2 = go.Bar(\n",
    "    x = pd.date_range('2019/02/10', periods=15),\n",
    "    y = df['B'],\n",
    "    yaxis = 'y2',\n",
    "    name = 'Signal B') # 'Signal B'为从2019-02-10开始的15天\n",
    "\n",
    "fig = tools.make_subplots(rows=2, cols=1)\n",
    "fig.append_trace(trace_1, 1, 1) \n",
    "fig.append_trace(trace_2, 2, 1) \n",
    "fig['layout'].update(height=600, width=800) \n",
    "\n",
    "plotly.offline.iplot(fig)"
   ]
  },
  {
   "cell_type": "code",
   "execution_count": 21,
   "metadata": {},
   "outputs": [
    {
     "name": "stdout",
     "output_type": "stream",
     "text": [
      "This is the format of your plot grid:\n",
      "[ (1,1) x1,y1 ]\n",
      "[ (2,1) x1,y2 ]\n",
      "\n"
     ]
    },
    {
     "data": {
      "application/vnd.plotly.v1+json": {
       "data": [
        {
         "name": "Signal A",
         "type": "bar",
         "uid": "857dc058-5935-11e9-907c-c8d3ffec4c05",
         "x": [
          "2019-02-05",
          "2019-02-06",
          "2019-02-07",
          "2019-02-08",
          "2019-02-09",
          "2019-02-10",
          "2019-02-11",
          "2019-02-12",
          "2019-02-13",
          "2019-02-14",
          "2019-02-15",
          "2019-02-16",
          "2019-02-17",
          "2019-02-18",
          "2019-02-19"
         ],
         "xaxis": "x",
         "y": [
          2,
          1,
          5,
          1,
          3,
          2,
          4,
          7,
          8,
          6,
          5,
          4,
          7,
          6,
          3
         ],
         "yaxis": "y"
        },
        {
         "name": "Signal B",
         "type": "bar",
         "uid": "857ed10c-5935-11e9-8936-c8d3ffec4c05",
         "x": [
          "2019-02-10",
          "2019-02-11",
          "2019-02-12",
          "2019-02-13",
          "2019-02-14",
          "2019-02-15",
          "2019-02-16",
          "2019-02-17",
          "2019-02-18",
          "2019-02-19",
          "2019-02-20",
          "2019-02-21",
          "2019-02-22",
          "2019-02-23",
          "2019-02-24"
         ],
         "xaxis": "x",
         "y": [
          1,
          4,
          2,
          6,
          4,
          3,
          5,
          6,
          8,
          7,
          6,
          5,
          3,
          1,
          1
         ],
         "yaxis": "y2"
        }
       ],
       "layout": {
        "height": 600,
        "width": 800,
        "xaxis": {
         "anchor": "y2",
         "domain": [
          0,
          1
         ]
        },
        "yaxis": {
         "anchor": "free",
         "domain": [
          0.575,
          1
         ],
         "position": 0
        },
        "yaxis2": {
         "anchor": "x",
         "domain": [
          0,
          0.425
         ]
        }
       }
      },
      "text/html": [
       "<div id=\"2d20197a-4187-4279-88f0-03adcc479ed5\" style=\"height: 600px; width: 800px;\" class=\"plotly-graph-div\"></div><script type=\"text/javascript\">require([\"plotly\"], function(Plotly) { window.PLOTLYENV=window.PLOTLYENV || {};window.PLOTLYENV.BASE_URL=\"https://plot.ly\";\n",
       "        Plotly.plot(\n",
       "            '2d20197a-4187-4279-88f0-03adcc479ed5',\n",
       "            [{\"name\": \"Signal A\", \"x\": [\"2019-02-05\", \"2019-02-06\", \"2019-02-07\", \"2019-02-08\", \"2019-02-09\", \"2019-02-10\", \"2019-02-11\", \"2019-02-12\", \"2019-02-13\", \"2019-02-14\", \"2019-02-15\", \"2019-02-16\", \"2019-02-17\", \"2019-02-18\", \"2019-02-19\"], \"y\": [2.0, 1.0, 5.0, 1.0, 3.0, 2.0, 4.0, 7.0, 8.0, 6.0, 5.0, 4.0, 7.0, 6.0, 3.0], \"type\": \"bar\", \"uid\": \"857dc058-5935-11e9-907c-c8d3ffec4c05\", \"xaxis\": \"x\", \"yaxis\": \"y\"}, {\"name\": \"Signal B\", \"x\": [\"2019-02-10\", \"2019-02-11\", \"2019-02-12\", \"2019-02-13\", \"2019-02-14\", \"2019-02-15\", \"2019-02-16\", \"2019-02-17\", \"2019-02-18\", \"2019-02-19\", \"2019-02-20\", \"2019-02-21\", \"2019-02-22\", \"2019-02-23\", \"2019-02-24\"], \"y\": [1.0, 4.0, 2.0, 6.0, 4.0, 3.0, 5.0, 6.0, 8.0, 7.0, 6.0, 5.0, 3.0, 1.0, 1.0], \"yaxis\": \"y2\", \"type\": \"bar\", \"uid\": \"857ed10c-5935-11e9-8936-c8d3ffec4c05\", \"xaxis\": \"x\"}],\n",
       "            {\"xaxis\": {\"anchor\": \"y2\", \"domain\": [0.0, 1.0]}, \"yaxis\": {\"anchor\": \"free\", \"domain\": [0.575, 1.0], \"position\": 0.0}, \"yaxis2\": {\"anchor\": \"x\", \"domain\": [0.0, 0.425]}, \"height\": 600, \"width\": 800},\n",
       "            {\"showLink\": true, \"linkText\": \"Export to plot.ly\"}\n",
       "        ).then(function () {return Plotly.addFrames('2d20197a-4187-4279-88f0-03adcc479ed5',{});}).then(function(){Plotly.animate('2d20197a-4187-4279-88f0-03adcc479ed5');})\n",
       "        });</script>"
      ],
      "text/vnd.plotly.v1+html": [
       "<div id=\"2d20197a-4187-4279-88f0-03adcc479ed5\" style=\"height: 600px; width: 800px;\" class=\"plotly-graph-div\"></div><script type=\"text/javascript\">require([\"plotly\"], function(Plotly) { window.PLOTLYENV=window.PLOTLYENV || {};window.PLOTLYENV.BASE_URL=\"https://plot.ly\";\n",
       "        Plotly.plot(\n",
       "            '2d20197a-4187-4279-88f0-03adcc479ed5',\n",
       "            [{\"name\": \"Signal A\", \"x\": [\"2019-02-05\", \"2019-02-06\", \"2019-02-07\", \"2019-02-08\", \"2019-02-09\", \"2019-02-10\", \"2019-02-11\", \"2019-02-12\", \"2019-02-13\", \"2019-02-14\", \"2019-02-15\", \"2019-02-16\", \"2019-02-17\", \"2019-02-18\", \"2019-02-19\"], \"y\": [2.0, 1.0, 5.0, 1.0, 3.0, 2.0, 4.0, 7.0, 8.0, 6.0, 5.0, 4.0, 7.0, 6.0, 3.0], \"type\": \"bar\", \"uid\": \"857dc058-5935-11e9-907c-c8d3ffec4c05\", \"xaxis\": \"x\", \"yaxis\": \"y\"}, {\"name\": \"Signal B\", \"x\": [\"2019-02-10\", \"2019-02-11\", \"2019-02-12\", \"2019-02-13\", \"2019-02-14\", \"2019-02-15\", \"2019-02-16\", \"2019-02-17\", \"2019-02-18\", \"2019-02-19\", \"2019-02-20\", \"2019-02-21\", \"2019-02-22\", \"2019-02-23\", \"2019-02-24\"], \"y\": [1.0, 4.0, 2.0, 6.0, 4.0, 3.0, 5.0, 6.0, 8.0, 7.0, 6.0, 5.0, 3.0, 1.0, 1.0], \"yaxis\": \"y2\", \"type\": \"bar\", \"uid\": \"857ed10c-5935-11e9-8936-c8d3ffec4c05\", \"xaxis\": \"x\"}],\n",
       "            {\"xaxis\": {\"anchor\": \"y2\", \"domain\": [0.0, 1.0]}, \"yaxis\": {\"anchor\": \"free\", \"domain\": [0.575, 1.0], \"position\": 0.0}, \"yaxis2\": {\"anchor\": \"x\", \"domain\": [0.0, 0.425]}, \"height\": 600, \"width\": 800},\n",
       "            {\"showLink\": true, \"linkText\": \"Export to plot.ly\"}\n",
       "        ).then(function () {return Plotly.addFrames('2d20197a-4187-4279-88f0-03adcc479ed5',{});}).then(function(){Plotly.animate('2d20197a-4187-4279-88f0-03adcc479ed5');})\n",
       "        });</script>"
      ]
     },
     "metadata": {},
     "output_type": "display_data"
    }
   ],
   "source": [
    "# 与条形图一样，共享x轴\n",
    "trace_1 = go.Bar(\n",
    "    x = pd.date_range('2019/02/05', periods=15),\n",
    "    y = df['A'],\n",
    "    name = 'Signal A') # 创建'Signal A'\n",
    "\n",
    "trace_2 = go.Bar(\n",
    "    x = pd.date_range('2019/02/10', periods=15),\n",
    "    y = df['B'],\n",
    "    yaxis = 'y2', # 单独指定y轴\n",
    "    name = 'Signal B') # 创建'Signal B'\n",
    "\n",
    "fig = tools.make_subplots(rows=2, cols=1, shared_xaxes=True) # 修改参数\"shared_xaxes=True\", 则2图共享x轴，其他都一样，共享y轴也类似\n",
    "fig.append_trace(trace_1, 1, 1) \n",
    "fig.append_trace(trace_2, 2, 1) \n",
    "fig['layout'].update(height=600, width=800) # 调节尺寸\n",
    "\n",
    "plotly.offline.iplot(fig) # 绘制"
   ]
  },
  {
   "cell_type": "markdown",
   "metadata": {},
   "source": [
    "### 3.4 标记数据与强调数据"
   ]
  },
  {
   "cell_type": "markdown",
   "metadata": {},
   "source": [
    "有时候我们希望条形图上能自动显示每个条的数值，我们可以通过trace中的text和textposition属性来完成。"
   ]
  },
  {
   "cell_type": "code",
   "execution_count": 22,
   "metadata": {},
   "outputs": [
    {
     "data": {
      "application/vnd.plotly.v1+json": {
       "data": [
        {
         "name": "Signal A",
         "text": [
          "2",
          "1",
          "5",
          "1",
          "3",
          "2",
          "4",
          "7",
          "8",
          "6",
          "5",
          "4",
          "7",
          "6",
          "3"
         ],
         "textposition": "outside",
         "type": "bar",
         "uid": "8613e9fa-5935-11e9-92f6-c8d3ffec4c05",
         "x": [
          "2019-02-04",
          "2019-02-05",
          "2019-02-06",
          "2019-02-07",
          "2019-02-08",
          "2019-02-09",
          "2019-02-10",
          "2019-02-11",
          "2019-02-12",
          "2019-02-13",
          "2019-02-14",
          "2019-02-15",
          "2019-02-16",
          "2019-02-17",
          "2019-02-18"
         ],
         "y": [
          2,
          1,
          5,
          1,
          3,
          2,
          4,
          7,
          8,
          6,
          5,
          4,
          7,
          6,
          3
         ]
        }
       ],
       "layout": {}
      },
      "text/html": [
       "<div id=\"3460d938-1fa2-44c2-99da-73c329e21d2c\" style=\"height: 525px; width: 100%;\" class=\"plotly-graph-div\"></div><script type=\"text/javascript\">require([\"plotly\"], function(Plotly) { window.PLOTLYENV=window.PLOTLYENV || {};window.PLOTLYENV.BASE_URL=\"https://plot.ly\";\n",
       "        Plotly.plot(\n",
       "            '3460d938-1fa2-44c2-99da-73c329e21d2c',\n",
       "            [{\"name\": \"Signal A\", \"text\": [\"2\", \"1\", \"5\", \"1\", \"3\", \"2\", \"4\", \"7\", \"8\", \"6\", \"5\", \"4\", \"7\", \"6\", \"3\"], \"textposition\": \"outside\", \"x\": [\"2019-02-04\", \"2019-02-05\", \"2019-02-06\", \"2019-02-07\", \"2019-02-08\", \"2019-02-09\", \"2019-02-10\", \"2019-02-11\", \"2019-02-12\", \"2019-02-13\", \"2019-02-14\", \"2019-02-15\", \"2019-02-16\", \"2019-02-17\", \"2019-02-18\"], \"y\": [2.0, 1.0, 5.0, 1.0, 3.0, 2.0, 4.0, 7.0, 8.0, 6.0, 5.0, 4.0, 7.0, 6.0, 3.0], \"type\": \"bar\", \"uid\": \"8613e9fa-5935-11e9-92f6-c8d3ffec4c05\"}],\n",
       "            {},\n",
       "            {\"showLink\": true, \"linkText\": \"Export to plot.ly\"}\n",
       "        ).then(function () {return Plotly.addFrames('3460d938-1fa2-44c2-99da-73c329e21d2c',{});}).then(function(){Plotly.animate('3460d938-1fa2-44c2-99da-73c329e21d2c');})\n",
       "        });</script>"
      ],
      "text/vnd.plotly.v1+html": [
       "<div id=\"3460d938-1fa2-44c2-99da-73c329e21d2c\" style=\"height: 525px; width: 100%;\" class=\"plotly-graph-div\"></div><script type=\"text/javascript\">require([\"plotly\"], function(Plotly) { window.PLOTLYENV=window.PLOTLYENV || {};window.PLOTLYENV.BASE_URL=\"https://plot.ly\";\n",
       "        Plotly.plot(\n",
       "            '3460d938-1fa2-44c2-99da-73c329e21d2c',\n",
       "            [{\"name\": \"Signal A\", \"text\": [\"2\", \"1\", \"5\", \"1\", \"3\", \"2\", \"4\", \"7\", \"8\", \"6\", \"5\", \"4\", \"7\", \"6\", \"3\"], \"textposition\": \"outside\", \"x\": [\"2019-02-04\", \"2019-02-05\", \"2019-02-06\", \"2019-02-07\", \"2019-02-08\", \"2019-02-09\", \"2019-02-10\", \"2019-02-11\", \"2019-02-12\", \"2019-02-13\", \"2019-02-14\", \"2019-02-15\", \"2019-02-16\", \"2019-02-17\", \"2019-02-18\"], \"y\": [2.0, 1.0, 5.0, 1.0, 3.0, 2.0, 4.0, 7.0, 8.0, 6.0, 5.0, 4.0, 7.0, 6.0, 3.0], \"type\": \"bar\", \"uid\": \"8613e9fa-5935-11e9-92f6-c8d3ffec4c05\"}],\n",
       "            {},\n",
       "            {\"showLink\": true, \"linkText\": \"Export to plot.ly\"}\n",
       "        ).then(function () {return Plotly.addFrames('3460d938-1fa2-44c2-99da-73c329e21d2c',{});}).then(function(){Plotly.animate('3460d938-1fa2-44c2-99da-73c329e21d2c');})\n",
       "        });</script>"
      ]
     },
     "metadata": {},
     "output_type": "display_data"
    }
   ],
   "source": [
    "trace_1 = go.Bar(\n",
    "    x = df.index,\n",
    "    y = df['A'],\n",
    "    name = 'Signal A',\n",
    "    text = df['A'], # text用于定义需要显示的标记内容\n",
    "    textposition = 'outside', # 定义text的位置，有inside, outside, auto三种\n",
    ") \n",
    "\n",
    "fig = go.Figure(data=[trace_1]) \n",
    "\n",
    "plotly.offline.iplot(fig)"
   ]
  },
  {
   "cell_type": "markdown",
   "metadata": {},
   "source": [
    "条形图中一种常用的强调数据的方法是修改条的颜色，在plotly中，我们可以在trace的marker中指定每个条的颜色，所以我们可以预先准备好一个颜色列表，然后将其赋给marker的color属性就可以了。"
   ]
  },
  {
   "cell_type": "code",
   "execution_count": 23,
   "metadata": {},
   "outputs": [
    {
     "data": {
      "application/vnd.plotly.v1+json": {
       "data": [
        {
         "marker": {
          "color": [
           "rgb(200, 220, 255)",
           "rgb(200, 220, 255)",
           "rgb(200, 220, 255)",
           "rgb(200, 220, 255)",
           "rgb(200, 220, 255)",
           "rgb(255, 50, 50)",
           "rgb(200, 220, 255)",
           "rgb(200, 220, 255)",
           "rgb(200, 220, 255)",
           "rgb(200, 220, 255)",
           "rgb(200, 220, 255)",
           "rgb(200, 220, 255)",
           "rgb(200, 220, 255)",
           "rgb(200, 220, 255)",
           "rgb(200, 220, 255)"
          ]
         },
         "name": "Signal A",
         "type": "bar",
         "uid": "8653fe64-5935-11e9-bc8b-c8d3ffec4c05",
         "x": [
          "2019-02-04",
          "2019-02-05",
          "2019-02-06",
          "2019-02-07",
          "2019-02-08",
          "2019-02-09",
          "2019-02-10",
          "2019-02-11",
          "2019-02-12",
          "2019-02-13",
          "2019-02-14",
          "2019-02-15",
          "2019-02-16",
          "2019-02-17",
          "2019-02-18"
         ],
         "y": [
          2,
          1,
          5,
          1,
          3,
          2,
          4,
          7,
          8,
          6,
          5,
          4,
          7,
          6,
          3
         ]
        }
       ],
       "layout": {}
      },
      "text/html": [
       "<div id=\"df9f31fd-5a9f-4cef-b49d-727dc792c158\" style=\"height: 525px; width: 100%;\" class=\"plotly-graph-div\"></div><script type=\"text/javascript\">require([\"plotly\"], function(Plotly) { window.PLOTLYENV=window.PLOTLYENV || {};window.PLOTLYENV.BASE_URL=\"https://plot.ly\";\n",
       "        Plotly.plot(\n",
       "            'df9f31fd-5a9f-4cef-b49d-727dc792c158',\n",
       "            [{\"marker\": {\"color\": [\"rgb(200, 220, 255)\", \"rgb(200, 220, 255)\", \"rgb(200, 220, 255)\", \"rgb(200, 220, 255)\", \"rgb(200, 220, 255)\", \"rgb(255, 50, 50)\", \"rgb(200, 220, 255)\", \"rgb(200, 220, 255)\", \"rgb(200, 220, 255)\", \"rgb(200, 220, 255)\", \"rgb(200, 220, 255)\", \"rgb(200, 220, 255)\", \"rgb(200, 220, 255)\", \"rgb(200, 220, 255)\", \"rgb(200, 220, 255)\"]}, \"name\": \"Signal A\", \"x\": [\"2019-02-04\", \"2019-02-05\", \"2019-02-06\", \"2019-02-07\", \"2019-02-08\", \"2019-02-09\", \"2019-02-10\", \"2019-02-11\", \"2019-02-12\", \"2019-02-13\", \"2019-02-14\", \"2019-02-15\", \"2019-02-16\", \"2019-02-17\", \"2019-02-18\"], \"y\": [2.0, 1.0, 5.0, 1.0, 3.0, 2.0, 4.0, 7.0, 8.0, 6.0, 5.0, 4.0, 7.0, 6.0, 3.0], \"type\": \"bar\", \"uid\": \"8653fe64-5935-11e9-bc8b-c8d3ffec4c05\"}],\n",
       "            {},\n",
       "            {\"showLink\": true, \"linkText\": \"Export to plot.ly\"}\n",
       "        ).then(function () {return Plotly.addFrames('df9f31fd-5a9f-4cef-b49d-727dc792c158',{});}).then(function(){Plotly.animate('df9f31fd-5a9f-4cef-b49d-727dc792c158');})\n",
       "        });</script>"
      ],
      "text/vnd.plotly.v1+html": [
       "<div id=\"df9f31fd-5a9f-4cef-b49d-727dc792c158\" style=\"height: 525px; width: 100%;\" class=\"plotly-graph-div\"></div><script type=\"text/javascript\">require([\"plotly\"], function(Plotly) { window.PLOTLYENV=window.PLOTLYENV || {};window.PLOTLYENV.BASE_URL=\"https://plot.ly\";\n",
       "        Plotly.plot(\n",
       "            'df9f31fd-5a9f-4cef-b49d-727dc792c158',\n",
       "            [{\"marker\": {\"color\": [\"rgb(200, 220, 255)\", \"rgb(200, 220, 255)\", \"rgb(200, 220, 255)\", \"rgb(200, 220, 255)\", \"rgb(200, 220, 255)\", \"rgb(255, 50, 50)\", \"rgb(200, 220, 255)\", \"rgb(200, 220, 255)\", \"rgb(200, 220, 255)\", \"rgb(200, 220, 255)\", \"rgb(200, 220, 255)\", \"rgb(200, 220, 255)\", \"rgb(200, 220, 255)\", \"rgb(200, 220, 255)\", \"rgb(200, 220, 255)\"]}, \"name\": \"Signal A\", \"x\": [\"2019-02-04\", \"2019-02-05\", \"2019-02-06\", \"2019-02-07\", \"2019-02-08\", \"2019-02-09\", \"2019-02-10\", \"2019-02-11\", \"2019-02-12\", \"2019-02-13\", \"2019-02-14\", \"2019-02-15\", \"2019-02-16\", \"2019-02-17\", \"2019-02-18\"], \"y\": [2.0, 1.0, 5.0, 1.0, 3.0, 2.0, 4.0, 7.0, 8.0, 6.0, 5.0, 4.0, 7.0, 6.0, 3.0], \"type\": \"bar\", \"uid\": \"8653fe64-5935-11e9-bc8b-c8d3ffec4c05\"}],\n",
       "            {},\n",
       "            {\"showLink\": true, \"linkText\": \"Export to plot.ly\"}\n",
       "        ).then(function () {return Plotly.addFrames('df9f31fd-5a9f-4cef-b49d-727dc792c158',{});}).then(function(){Plotly.animate('df9f31fd-5a9f-4cef-b49d-727dc792c158');})\n",
       "        });</script>"
      ]
     },
     "metadata": {},
     "output_type": "display_data"
    }
   ],
   "source": [
    "# 强调某个数据\n",
    "color_set = ['rgb(200, 220, 255)'] * len(df)\n",
    "color_set[5] = 'rgb(255, 50, 50)' # 设置颜色列表，将需要强调的数据赋予不同的颜色\n",
    "\n",
    "trace_1 = go.Bar(\n",
    "    x = df.index,\n",
    "    y = df['A'],\n",
    "    name = 'Signal A',\n",
    "    marker = dict( # marker用来修改条形的颜色\n",
    "        color = color_set,\n",
    "    )\n",
    ") \n",
    "\n",
    "fig = go.Figure(data=[trace_1]) \n",
    "\n",
    "plotly.offline.iplot(fig)"
   ]
  },
  {
   "cell_type": "markdown",
   "metadata": {},
   "source": [
    "条形图中常用的大部分内容与线图一样，所以这里也就不再累述了。"
   ]
  },
  {
   "cell_type": "markdown",
   "metadata": {},
   "source": [
    "## 4. 地图"
   ]
  },
  {
   "cell_type": "markdown",
   "metadata": {},
   "source": [
    "地图一种也是我们经常会用到的展示内容，plotly中的地图其实也是由数据(data)与地图背景(layout)所组成。其中地图背景需要mapbox的支持，可以在mapbox上注册一下，然后就能获得一个token，我们在使用地图功能时需要输入这个token。"
   ]
  },
  {
   "cell_type": "markdown",
   "metadata": {},
   "source": [
    "### 4.1 点与线"
   ]
  },
  {
   "cell_type": "markdown",
   "metadata": {},
   "source": [
    "地图上标记点与线相对简单，同样也是通过添加trace的方式，将所有要标记的点或者线放进一个列表里，然后传入到data中。之前我们在线图与条形图中我们分别使用了go.Scatter和go.Bar，此处我们使用go.Scattermapbox。点图与线图差别不大，主要差异是经纬度列表的内容设置，以及marker相关的内容设置。"
   ]
  },
  {
   "cell_type": "code",
   "execution_count": 24,
   "metadata": {},
   "outputs": [
    {
     "data": {
      "application/vnd.plotly.v1+json": {
       "data": [
        {
         "lat": [
          -37.808599
         ],
         "lon": [
          144.964603
         ],
         "marker": {
          "color": "hsl(0, 1, 0.45)",
          "opacity": 0.8,
          "size": 20
         },
         "mode": "markers",
         "name": "Target A",
         "type": "scattermapbox",
         "uid": "874421f4-5935-11e9-9519-c8d3ffec4c05"
        },
        {
         "lat": [
          -37.799382
         ],
         "lon": [
          144.982275
         ],
         "marker": {
          "color": "hsl(50, 1, 0.45)",
          "opacity": 0.8,
          "size": 20
         },
         "mode": "markers",
         "name": "Target B",
         "type": "scattermapbox",
         "uid": "874421f5-5935-11e9-acb4-c8d3ffec4c05"
        },
        {
         "lat": [
          -37.862162
         ],
         "lon": [
          144.992144
         ],
         "marker": {
          "color": "hsl(100, 1, 0.45)",
          "opacity": 0.8,
          "size": 20
         },
         "mode": "markers",
         "name": "Target C",
         "type": "scattermapbox",
         "uid": "874421f6-5935-11e9-8f11-c8d3ffec4c05"
        },
        {
         "lat": [
          -37.85365
         ],
         "lon": [
          144.87285
         ],
         "marker": {
          "color": "hsl(150, 1, 0.45)",
          "opacity": 0.8,
          "size": 20
         },
         "mode": "markers",
         "name": "Target D",
         "type": "scattermapbox",
         "uid": "874421f7-5935-11e9-9d58-c8d3ffec4c05"
        },
        {
         "lat": [
          -37.771296
         ],
         "lon": [
          144.9449
         ],
         "marker": {
          "color": "hsl(200, 1, 0.45)",
          "opacity": 0.8,
          "size": 20
         },
         "mode": "markers",
         "name": "Target E",
         "type": "scattermapbox",
         "uid": "874421f8-5935-11e9-b03f-c8d3ffec4c05"
        }
       ],
       "layout": {
        "height": 800,
        "hovermode": "closest",
        "mapbox": {
         "accesstoken": "pk.eyJ1Ijoic2lsZW5jZWd0eCIsImEiOiJjamxhNmZreHc0MTJtM2txa212d3A1eGRnIn0.c6AsMEbbbxNfyuCuu8ynuA",
         "bearing": 0,
         "center": {
          "lat": -37.8,
          "lon": 144.95
         },
         "pitch": 0,
         "zoom": 11
        },
        "title": "Locations",
        "width": 1000
       }
      },
      "text/html": [
       "<div id=\"ef441fa3-3316-4f8a-9160-8cb5fd5f0a97\" style=\"height: 800px; width: 1000px;\" class=\"plotly-graph-div\"></div><script type=\"text/javascript\">require([\"plotly\"], function(Plotly) { window.PLOTLYENV=window.PLOTLYENV || {};window.PLOTLYENV.BASE_URL=\"https://plot.ly\";\n",
       "        Plotly.plot(\n",
       "            'ef441fa3-3316-4f8a-9160-8cb5fd5f0a97',\n",
       "            [{\"lat\": [-37.808599], \"lon\": [144.964603], \"marker\": {\"color\": \"hsl(0, 1, 0.45)\", \"opacity\": 0.8, \"size\": 20}, \"mode\": \"markers\", \"name\": \"Target A\", \"type\": \"scattermapbox\", \"uid\": \"874421f4-5935-11e9-9519-c8d3ffec4c05\"}, {\"lat\": [-37.799382], \"lon\": [144.982275], \"marker\": {\"color\": \"hsl(50, 1, 0.45)\", \"opacity\": 0.8, \"size\": 20}, \"mode\": \"markers\", \"name\": \"Target B\", \"type\": \"scattermapbox\", \"uid\": \"874421f5-5935-11e9-acb4-c8d3ffec4c05\"}, {\"lat\": [-37.862162], \"lon\": [144.992144], \"marker\": {\"color\": \"hsl(100, 1, 0.45)\", \"opacity\": 0.8, \"size\": 20}, \"mode\": \"markers\", \"name\": \"Target C\", \"type\": \"scattermapbox\", \"uid\": \"874421f6-5935-11e9-8f11-c8d3ffec4c05\"}, {\"lat\": [-37.85365], \"lon\": [144.87285], \"marker\": {\"color\": \"hsl(150, 1, 0.45)\", \"opacity\": 0.8, \"size\": 20}, \"mode\": \"markers\", \"name\": \"Target D\", \"type\": \"scattermapbox\", \"uid\": \"874421f7-5935-11e9-9d58-c8d3ffec4c05\"}, {\"lat\": [-37.771296], \"lon\": [144.9449], \"marker\": {\"color\": \"hsl(200, 1, 0.45)\", \"opacity\": 0.8, \"size\": 20}, \"mode\": \"markers\", \"name\": \"Target E\", \"type\": \"scattermapbox\", \"uid\": \"874421f8-5935-11e9-b03f-c8d3ffec4c05\"}],\n",
       "            {\"height\": 800, \"hovermode\": \"closest\", \"mapbox\": {\"accesstoken\": \"pk.eyJ1Ijoic2lsZW5jZWd0eCIsImEiOiJjamxhNmZreHc0MTJtM2txa212d3A1eGRnIn0.c6AsMEbbbxNfyuCuu8ynuA\", \"bearing\": 0, \"center\": {\"lat\": -37.8, \"lon\": 144.95}, \"pitch\": 0, \"zoom\": 11}, \"title\": \"Locations\", \"width\": 1000},\n",
       "            {\"showLink\": true, \"linkText\": \"Export to plot.ly\"}\n",
       "        ).then(function () {return Plotly.addFrames('ef441fa3-3316-4f8a-9160-8cb5fd5f0a97',{});}).then(function(){Plotly.animate('ef441fa3-3316-4f8a-9160-8cb5fd5f0a97');})\n",
       "        });</script>"
      ],
      "text/vnd.plotly.v1+html": [
       "<div id=\"ef441fa3-3316-4f8a-9160-8cb5fd5f0a97\" style=\"height: 800px; width: 1000px;\" class=\"plotly-graph-div\"></div><script type=\"text/javascript\">require([\"plotly\"], function(Plotly) { window.PLOTLYENV=window.PLOTLYENV || {};window.PLOTLYENV.BASE_URL=\"https://plot.ly\";\n",
       "        Plotly.plot(\n",
       "            'ef441fa3-3316-4f8a-9160-8cb5fd5f0a97',\n",
       "            [{\"lat\": [-37.808599], \"lon\": [144.964603], \"marker\": {\"color\": \"hsl(0, 1, 0.45)\", \"opacity\": 0.8, \"size\": 20}, \"mode\": \"markers\", \"name\": \"Target A\", \"type\": \"scattermapbox\", \"uid\": \"874421f4-5935-11e9-9519-c8d3ffec4c05\"}, {\"lat\": [-37.799382], \"lon\": [144.982275], \"marker\": {\"color\": \"hsl(50, 1, 0.45)\", \"opacity\": 0.8, \"size\": 20}, \"mode\": \"markers\", \"name\": \"Target B\", \"type\": \"scattermapbox\", \"uid\": \"874421f5-5935-11e9-acb4-c8d3ffec4c05\"}, {\"lat\": [-37.862162], \"lon\": [144.992144], \"marker\": {\"color\": \"hsl(100, 1, 0.45)\", \"opacity\": 0.8, \"size\": 20}, \"mode\": \"markers\", \"name\": \"Target C\", \"type\": \"scattermapbox\", \"uid\": \"874421f6-5935-11e9-8f11-c8d3ffec4c05\"}, {\"lat\": [-37.85365], \"lon\": [144.87285], \"marker\": {\"color\": \"hsl(150, 1, 0.45)\", \"opacity\": 0.8, \"size\": 20}, \"mode\": \"markers\", \"name\": \"Target D\", \"type\": \"scattermapbox\", \"uid\": \"874421f7-5935-11e9-9d58-c8d3ffec4c05\"}, {\"lat\": [-37.771296], \"lon\": [144.9449], \"marker\": {\"color\": \"hsl(200, 1, 0.45)\", \"opacity\": 0.8, \"size\": 20}, \"mode\": \"markers\", \"name\": \"Target E\", \"type\": \"scattermapbox\", \"uid\": \"874421f8-5935-11e9-b03f-c8d3ffec4c05\"}],\n",
       "            {\"height\": 800, \"hovermode\": \"closest\", \"mapbox\": {\"accesstoken\": \"pk.eyJ1Ijoic2lsZW5jZWd0eCIsImEiOiJjamxhNmZreHc0MTJtM2txa212d3A1eGRnIn0.c6AsMEbbbxNfyuCuu8ynuA\", \"bearing\": 0, \"center\": {\"lat\": -37.8, \"lon\": 144.95}, \"pitch\": 0, \"zoom\": 11}, \"title\": \"Locations\", \"width\": 1000},\n",
       "            {\"showLink\": true, \"linkText\": \"Export to plot.ly\"}\n",
       "        ).then(function () {return Plotly.addFrames('ef441fa3-3316-4f8a-9160-8cb5fd5f0a97',{});}).then(function(){Plotly.animate('ef441fa3-3316-4f8a-9160-8cb5fd5f0a97');})\n",
       "        });</script>"
      ]
     },
     "metadata": {},
     "output_type": "display_data"
    }
   ],
   "source": [
    "# 点图\n",
    "geo_trace = [] # 创建一个列表，用于储存地理位置数据，最终将传入data中\n",
    "\n",
    "for i in range(len(geo_df)): # 这里我们写了一个循环，用于将每个点的坐标和名字加入geo_trace中\n",
    "    geo_trace.append(\n",
    "        go.Scattermapbox(\n",
    "            lat = [geo_df['lat'][i]],\n",
    "            lon = [geo_df['lon'][i]], # 每个经纬度都是一个列表，如果我们只标记点，则每个列表里只有1个数据 \n",
    "            name = geo_df['name'][i], # 每个点的名字\n",
    "            mode = 'markers', # 将mode设置为marker用于标记点\n",
    "            marker = dict(\n",
    "                size = 20, # 设置点的大小\n",
    "                color = 'hsl(%i, 1, 0.45)'%(50*i), # 我们通过HSL模式来调节颜色，并将其与我们的循环挂钩，则每个点都有一个不同的颜色\n",
    "                opacity = 0.8 # 设置不透明度\n",
    "            )\n",
    "        )\n",
    "    )\n",
    "\n",
    "layout = go.Layout(\n",
    "    title = 'Locations', # 设置标题\n",
    "    height = 800,\n",
    "    width = 1000, # 设置图面尺寸\n",
    "    hovermode = 'closest',\n",
    "    mapbox = dict(\n",
    "        accesstoken = '******', # 此处输入mapbox的token\n",
    "        bearing = 0, # 控制地图的旋转\n",
    "        center = dict(\n",
    "            lat = -37.80,\n",
    "            lon = 144.95 # 控制地图的中心点\n",
    "        ),\n",
    "        pitch = 0, # 控制地图的俯仰\n",
    "        zoom = 11, # 控制地图缩放\n",
    "    ),\n",
    ")\n",
    "\n",
    "fig = go.Figure(data=geo_trace, layout=layout) # 设置数据与图面\n",
    "plotly.offline.iplot(fig) # 绘制"
   ]
  },
  {
   "cell_type": "code",
   "execution_count": 25,
   "metadata": {},
   "outputs": [
    {
     "data": {
      "application/vnd.plotly.v1+json": {
       "data": [
        {
         "lat": [
          -37.808599,
          -37.8
         ],
         "line": {
          "color": "hsl(0, 1, 0.45)",
          "width": 5
         },
         "lon": [
          144.964603,
          144.95
         ],
         "mode": "lines",
         "name": "Target A",
         "type": "scattermapbox",
         "uid": "8750c380-5935-11e9-b91d-c8d3ffec4c05"
        },
        {
         "lat": [
          -37.799382,
          -37.8
         ],
         "line": {
          "color": "hsl(50, 1, 0.45)",
          "width": 5
         },
         "lon": [
          144.982275,
          144.95
         ],
         "mode": "lines",
         "name": "Target B",
         "type": "scattermapbox",
         "uid": "8750c381-5935-11e9-8339-c8d3ffec4c05"
        },
        {
         "lat": [
          -37.862162,
          -37.8
         ],
         "line": {
          "color": "hsl(100, 1, 0.45)",
          "width": 5
         },
         "lon": [
          144.992144,
          144.95
         ],
         "mode": "lines",
         "name": "Target C",
         "type": "scattermapbox",
         "uid": "8750c382-5935-11e9-91c6-c8d3ffec4c05"
        },
        {
         "lat": [
          -37.85365,
          -37.8
         ],
         "line": {
          "color": "hsl(150, 1, 0.45)",
          "width": 5
         },
         "lon": [
          144.87285,
          144.95
         ],
         "mode": "lines",
         "name": "Target D",
         "type": "scattermapbox",
         "uid": "8750c383-5935-11e9-80b5-c8d3ffec4c05"
        },
        {
         "lat": [
          -37.771296,
          -37.8
         ],
         "line": {
          "color": "hsl(200, 1, 0.45)",
          "width": 5
         },
         "lon": [
          144.9449,
          144.95
         ],
         "mode": "lines",
         "name": "Target E",
         "type": "scattermapbox",
         "uid": "8750c384-5935-11e9-a201-c8d3ffec4c05"
        }
       ],
       "layout": {
        "height": 800,
        "hovermode": "closest",
        "mapbox": {
         "accesstoken": "pk.eyJ1Ijoic2lsZW5jZWd0eCIsImEiOiJjamxhNmZreHc0MTJtM2txa212d3A1eGRnIn0.c6AsMEbbbxNfyuCuu8ynuA",
         "bearing": 0,
         "center": {
          "lat": -37.8,
          "lon": 144.95
         },
         "pitch": 0,
         "zoom": 11
        },
        "title": "Locations",
        "width": 1000
       }
      },
      "text/html": [
       "<div id=\"dcad02d0-c27c-4aa9-aa9e-8e1d875eb737\" style=\"height: 800px; width: 1000px;\" class=\"plotly-graph-div\"></div><script type=\"text/javascript\">require([\"plotly\"], function(Plotly) { window.PLOTLYENV=window.PLOTLYENV || {};window.PLOTLYENV.BASE_URL=\"https://plot.ly\";\n",
       "        Plotly.plot(\n",
       "            'dcad02d0-c27c-4aa9-aa9e-8e1d875eb737',\n",
       "            [{\"lat\": [-37.808599, -37.8], \"line\": {\"color\": \"hsl(0, 1, 0.45)\", \"width\": 5}, \"lon\": [144.964603, 144.95], \"mode\": \"lines\", \"name\": \"Target A\", \"type\": \"scattermapbox\", \"uid\": \"8750c380-5935-11e9-b91d-c8d3ffec4c05\"}, {\"lat\": [-37.799382, -37.8], \"line\": {\"color\": \"hsl(50, 1, 0.45)\", \"width\": 5}, \"lon\": [144.982275, 144.95], \"mode\": \"lines\", \"name\": \"Target B\", \"type\": \"scattermapbox\", \"uid\": \"8750c381-5935-11e9-8339-c8d3ffec4c05\"}, {\"lat\": [-37.862162, -37.8], \"line\": {\"color\": \"hsl(100, 1, 0.45)\", \"width\": 5}, \"lon\": [144.992144, 144.95], \"mode\": \"lines\", \"name\": \"Target C\", \"type\": \"scattermapbox\", \"uid\": \"8750c382-5935-11e9-91c6-c8d3ffec4c05\"}, {\"lat\": [-37.85365, -37.8], \"line\": {\"color\": \"hsl(150, 1, 0.45)\", \"width\": 5}, \"lon\": [144.87285, 144.95], \"mode\": \"lines\", \"name\": \"Target D\", \"type\": \"scattermapbox\", \"uid\": \"8750c383-5935-11e9-80b5-c8d3ffec4c05\"}, {\"lat\": [-37.771296, -37.8], \"line\": {\"color\": \"hsl(200, 1, 0.45)\", \"width\": 5}, \"lon\": [144.9449, 144.95], \"mode\": \"lines\", \"name\": \"Target E\", \"type\": \"scattermapbox\", \"uid\": \"8750c384-5935-11e9-a201-c8d3ffec4c05\"}],\n",
       "            {\"height\": 800, \"hovermode\": \"closest\", \"mapbox\": {\"accesstoken\": \"pk.eyJ1Ijoic2lsZW5jZWd0eCIsImEiOiJjamxhNmZreHc0MTJtM2txa212d3A1eGRnIn0.c6AsMEbbbxNfyuCuu8ynuA\", \"bearing\": 0, \"center\": {\"lat\": -37.8, \"lon\": 144.95}, \"pitch\": 0, \"zoom\": 11}, \"title\": \"Locations\", \"width\": 1000},\n",
       "            {\"showLink\": true, \"linkText\": \"Export to plot.ly\"}\n",
       "        ).then(function () {return Plotly.addFrames('dcad02d0-c27c-4aa9-aa9e-8e1d875eb737',{});}).then(function(){Plotly.animate('dcad02d0-c27c-4aa9-aa9e-8e1d875eb737');})\n",
       "        });</script>"
      ],
      "text/vnd.plotly.v1+html": [
       "<div id=\"dcad02d0-c27c-4aa9-aa9e-8e1d875eb737\" style=\"height: 800px; width: 1000px;\" class=\"plotly-graph-div\"></div><script type=\"text/javascript\">require([\"plotly\"], function(Plotly) { window.PLOTLYENV=window.PLOTLYENV || {};window.PLOTLYENV.BASE_URL=\"https://plot.ly\";\n",
       "        Plotly.plot(\n",
       "            'dcad02d0-c27c-4aa9-aa9e-8e1d875eb737',\n",
       "            [{\"lat\": [-37.808599, -37.8], \"line\": {\"color\": \"hsl(0, 1, 0.45)\", \"width\": 5}, \"lon\": [144.964603, 144.95], \"mode\": \"lines\", \"name\": \"Target A\", \"type\": \"scattermapbox\", \"uid\": \"8750c380-5935-11e9-b91d-c8d3ffec4c05\"}, {\"lat\": [-37.799382, -37.8], \"line\": {\"color\": \"hsl(50, 1, 0.45)\", \"width\": 5}, \"lon\": [144.982275, 144.95], \"mode\": \"lines\", \"name\": \"Target B\", \"type\": \"scattermapbox\", \"uid\": \"8750c381-5935-11e9-8339-c8d3ffec4c05\"}, {\"lat\": [-37.862162, -37.8], \"line\": {\"color\": \"hsl(100, 1, 0.45)\", \"width\": 5}, \"lon\": [144.992144, 144.95], \"mode\": \"lines\", \"name\": \"Target C\", \"type\": \"scattermapbox\", \"uid\": \"8750c382-5935-11e9-91c6-c8d3ffec4c05\"}, {\"lat\": [-37.85365, -37.8], \"line\": {\"color\": \"hsl(150, 1, 0.45)\", \"width\": 5}, \"lon\": [144.87285, 144.95], \"mode\": \"lines\", \"name\": \"Target D\", \"type\": \"scattermapbox\", \"uid\": \"8750c383-5935-11e9-80b5-c8d3ffec4c05\"}, {\"lat\": [-37.771296, -37.8], \"line\": {\"color\": \"hsl(200, 1, 0.45)\", \"width\": 5}, \"lon\": [144.9449, 144.95], \"mode\": \"lines\", \"name\": \"Target E\", \"type\": \"scattermapbox\", \"uid\": \"8750c384-5935-11e9-a201-c8d3ffec4c05\"}],\n",
       "            {\"height\": 800, \"hovermode\": \"closest\", \"mapbox\": {\"accesstoken\": \"pk.eyJ1Ijoic2lsZW5jZWd0eCIsImEiOiJjamxhNmZreHc0MTJtM2txa212d3A1eGRnIn0.c6AsMEbbbxNfyuCuu8ynuA\", \"bearing\": 0, \"center\": {\"lat\": -37.8, \"lon\": 144.95}, \"pitch\": 0, \"zoom\": 11}, \"title\": \"Locations\", \"width\": 1000},\n",
       "            {\"showLink\": true, \"linkText\": \"Export to plot.ly\"}\n",
       "        ).then(function () {return Plotly.addFrames('dcad02d0-c27c-4aa9-aa9e-8e1d875eb737',{});}).then(function(){Plotly.animate('dcad02d0-c27c-4aa9-aa9e-8e1d875eb737');})\n",
       "        });</script>"
      ]
     },
     "metadata": {},
     "output_type": "display_data"
    }
   ],
   "source": [
    "# 线图\n",
    "geo_trace = [] \n",
    "\n",
    "for i in range(len(geo_df)): \n",
    "    geo_trace.append(\n",
    "        go.Scattermapbox(\n",
    "            lat = [geo_df['lat'][i], -37.80],\n",
    "            lon = [geo_df['lon'][i], 144.95], # 每个经纬度都是一个列表，我们可以将路径上的每个点依次加入列表中 \n",
    "            name = geo_df['name'][i], \n",
    "            mode = 'lines', # 将mode设置为lines用于画线\n",
    "            line = dict(\n",
    "                color = 'hsl(%i, 1, 0.45)'%(50*i), # 设置线的颜色\n",
    "                width = 5 # 设置宽\n",
    "            )\n",
    "        )\n",
    "    )\n",
    "\n",
    "layout = go.Layout(\n",
    "    title = 'Locations', \n",
    "    height = 800,\n",
    "    width = 1000,\n",
    "    hovermode = 'closest',\n",
    "    mapbox = dict(\n",
    "        accesstoken = '******', # 此处输入mapbox的token\n",
    "        bearing = 0, \n",
    "        center = dict(\n",
    "            lat = -37.80,\n",
    "            lon = 144.95 \n",
    "        ),\n",
    "        pitch = 0, \n",
    "        zoom = 11, \n",
    "    ),\n",
    ")\n",
    "\n",
    "fig = go.Figure(data=geo_trace, layout=layout) \n",
    "plotly.offline.iplot(fig) "
   ]
  },
  {
   "cell_type": "markdown",
   "metadata": {
    "collapsed": true
   },
   "source": [
    "### 4.2 填充区域"
   ]
  },
  {
   "cell_type": "markdown",
   "metadata": {},
   "source": [
    "有时候我们会需要对某个区块进行颜色填充，这个其实跟画线差别也不大，我们只需在经纬度列表中填入一个封闭区域的坐标即可。注意，首尾坐标相同才会封闭。除此之外，我们还要添加一个fill参数，来对封闭区域进行填充。其他内容就没什么区别了。"
   ]
  },
  {
   "cell_type": "code",
   "execution_count": 26,
   "metadata": {},
   "outputs": [
    {
     "data": {
      "application/vnd.plotly.v1+json": {
       "data": [
        {
         "fill": "toself",
         "fillcolor": "rgba(255, 100, 100, 0.3)",
         "lat": [
          -37.808599,
          -37.8,
          -37.83,
          -37.808599
         ],
         "lon": [
          144.964603,
          144.95,
          144.9,
          144.964603
         ],
         "marker": {
          "color": "hsl(0, 0, 0.45)",
          "opacity": 0.8
         },
         "mode": "lines",
         "name": "Area 11",
         "type": "scattermapbox",
         "uid": "87a57564-5935-11e9-833e-c8d3ffec4c05"
        }
       ],
       "layout": {
        "height": 800,
        "hovermode": "closest",
        "mapbox": {
         "accesstoken": "pk.eyJ1Ijoic2lsZW5jZWd0eCIsImEiOiJjamxhNmZreHc0MTJtM2txa212d3A1eGRnIn0.c6AsMEbbbxNfyuCuu8ynuA",
         "bearing": 0,
         "center": {
          "lat": -37.8,
          "lon": 144.95
         },
         "pitch": 0,
         "style": "light",
         "zoom": 11
        },
        "showlegend": true,
        "title": "Locations",
        "width": 1000
       }
      },
      "text/html": [
       "<div id=\"5759e7e8-27d4-4aac-b241-5b66b846ca8d\" style=\"height: 800px; width: 1000px;\" class=\"plotly-graph-div\"></div><script type=\"text/javascript\">require([\"plotly\"], function(Plotly) { window.PLOTLYENV=window.PLOTLYENV || {};window.PLOTLYENV.BASE_URL=\"https://plot.ly\";\n",
       "        Plotly.plot(\n",
       "            '5759e7e8-27d4-4aac-b241-5b66b846ca8d',\n",
       "            [{\"fill\": \"toself\", \"fillcolor\": \"rgba(255, 100, 100, 0.3)\", \"lat\": [-37.808599, -37.8, -37.83, -37.808599], \"lon\": [144.964603, 144.95, 144.9, 144.964603], \"marker\": {\"color\": \"hsl(0, 0, 0.45)\", \"opacity\": 0.8}, \"mode\": \"lines\", \"name\": \"Area 11\", \"type\": \"scattermapbox\", \"uid\": \"87a57564-5935-11e9-833e-c8d3ffec4c05\"}],\n",
       "            {\"height\": 800, \"hovermode\": \"closest\", \"mapbox\": {\"accesstoken\": \"pk.eyJ1Ijoic2lsZW5jZWd0eCIsImEiOiJjamxhNmZreHc0MTJtM2txa212d3A1eGRnIn0.c6AsMEbbbxNfyuCuu8ynuA\", \"bearing\": 0, \"center\": {\"lat\": -37.8, \"lon\": 144.95}, \"pitch\": 0, \"style\": \"light\", \"zoom\": 11}, \"showlegend\": true, \"title\": \"Locations\", \"width\": 1000},\n",
       "            {\"showLink\": true, \"linkText\": \"Export to plot.ly\"}\n",
       "        ).then(function () {return Plotly.addFrames('5759e7e8-27d4-4aac-b241-5b66b846ca8d',{});}).then(function(){Plotly.animate('5759e7e8-27d4-4aac-b241-5b66b846ca8d');})\n",
       "        });</script>"
      ],
      "text/vnd.plotly.v1+html": [
       "<div id=\"5759e7e8-27d4-4aac-b241-5b66b846ca8d\" style=\"height: 800px; width: 1000px;\" class=\"plotly-graph-div\"></div><script type=\"text/javascript\">require([\"plotly\"], function(Plotly) { window.PLOTLYENV=window.PLOTLYENV || {};window.PLOTLYENV.BASE_URL=\"https://plot.ly\";\n",
       "        Plotly.plot(\n",
       "            '5759e7e8-27d4-4aac-b241-5b66b846ca8d',\n",
       "            [{\"fill\": \"toself\", \"fillcolor\": \"rgba(255, 100, 100, 0.3)\", \"lat\": [-37.808599, -37.8, -37.83, -37.808599], \"lon\": [144.964603, 144.95, 144.9, 144.964603], \"marker\": {\"color\": \"hsl(0, 0, 0.45)\", \"opacity\": 0.8}, \"mode\": \"lines\", \"name\": \"Area 11\", \"type\": \"scattermapbox\", \"uid\": \"87a57564-5935-11e9-833e-c8d3ffec4c05\"}],\n",
       "            {\"height\": 800, \"hovermode\": \"closest\", \"mapbox\": {\"accesstoken\": \"pk.eyJ1Ijoic2lsZW5jZWd0eCIsImEiOiJjamxhNmZreHc0MTJtM2txa212d3A1eGRnIn0.c6AsMEbbbxNfyuCuu8ynuA\", \"bearing\": 0, \"center\": {\"lat\": -37.8, \"lon\": 144.95}, \"pitch\": 0, \"style\": \"light\", \"zoom\": 11}, \"showlegend\": true, \"title\": \"Locations\", \"width\": 1000},\n",
       "            {\"showLink\": true, \"linkText\": \"Export to plot.ly\"}\n",
       "        ).then(function () {return Plotly.addFrames('5759e7e8-27d4-4aac-b241-5b66b846ca8d',{});}).then(function(){Plotly.animate('5759e7e8-27d4-4aac-b241-5b66b846ca8d');})\n",
       "        });</script>"
      ]
     },
     "metadata": {},
     "output_type": "display_data"
    }
   ],
   "source": [
    "geo_trace = [] # 创建一个列表，用于储存地理位置数据，最终将传入data中\n",
    "\n",
    "geo_trace.append(\n",
    "    go.Scattermapbox(\n",
    "        lat = [geo_df['lat'][0], -37.80, -37.83, geo_df['lat'][0]],\n",
    "        lon = [geo_df['lon'][0], 144.95, 144.90, geo_df['lon'][0]], # 注意坐标首尾相同\n",
    "        fill = 'toself', # 设置填充\n",
    "        fillcolor = 'rgba(255, 100, 100, 0.3)', # 设置填充颜色\n",
    "        name = 'Area 11',\n",
    "        mode = 'lines', \n",
    "        marker = dict(\n",
    "            color = 'hsl(0, 0, 0.45)', # 设置外框线颜色\n",
    "            opacity = 0.8 # 外框线不透明度\n",
    "        )\n",
    "    )\n",
    ")\n",
    "\n",
    "layout = go.Layout(\n",
    "    title = 'Locations', \n",
    "    showlegend = True, # 强制显示图例\n",
    "    height = 800,\n",
    "    width = 1000,\n",
    "    hovermode = 'closest',\n",
    "    mapbox = dict(\n",
    "        accesstoken = '******', # 此处输入mapbox的token\n",
    "        bearing = 0, \n",
    "        center = dict(\n",
    "            lat = -37.80,\n",
    "            lon = 144.95 \n",
    "        ),\n",
    "        pitch = 0, \n",
    "        zoom = 11, \n",
    "        style = 'light' # 背景换成灰度模式\n",
    "    ),\n",
    ")\n",
    "\n",
    "fig = go.Figure(data=geo_trace, layout=layout) \n",
    "plotly.offline.iplot(fig) "
   ]
  },
  {
   "cell_type": "markdown",
   "metadata": {
    "collapsed": true
   },
   "source": [
    "## 5. 热力图"
   ]
  },
  {
   "cell_type": "markdown",
   "metadata": {
    "collapsed": true
   },
   "source": [
    "热力图主要用于相关性分析及混淆矩阵的展示。而绘制热力图主要使用go.Heatmap来完成。"
   ]
  },
  {
   "cell_type": "code",
   "execution_count": 27,
   "metadata": {},
   "outputs": [
    {
     "data": {
      "application/vnd.plotly.v1+json": {
       "data": [
        {
         "type": "heatmap",
         "uid": "884bc006-5935-11e9-94fb-c8d3ffec4c05",
         "x": [
          "Signal A",
          "Signal B",
          "Signal C"
         ],
         "y": [
          "Signal A",
          "Signal B",
          "Signal C"
         ],
         "z": [
          [
           1,
           0.8,
           0.3
          ],
          [
           0.8,
           1,
           0.45
          ],
          [
           0.3,
           0.45,
           1
          ]
         ]
        }
       ],
       "layout": {
        "height": 600,
        "title": "Correlation",
        "width": 600
       }
      },
      "text/html": [
       "<div id=\"fcb76e1e-9e41-4acc-b7fb-d94d3e76467e\" style=\"height: 600px; width: 600px;\" class=\"plotly-graph-div\"></div><script type=\"text/javascript\">require([\"plotly\"], function(Plotly) { window.PLOTLYENV=window.PLOTLYENV || {};window.PLOTLYENV.BASE_URL=\"https://plot.ly\";\n",
       "        Plotly.plot(\n",
       "            'fcb76e1e-9e41-4acc-b7fb-d94d3e76467e',\n",
       "            [{\"x\": [\"Signal A\", \"Signal B\", \"Signal C\"], \"y\": [\"Signal A\", \"Signal B\", \"Signal C\"], \"z\": [[1.0, 0.8, 0.3], [0.8, 1.0, 0.45], [0.3, 0.45, 1.0]], \"type\": \"heatmap\", \"uid\": \"884bc006-5935-11e9-94fb-c8d3ffec4c05\"}],\n",
       "            {\"height\": 600, \"title\": \"Correlation\", \"width\": 600},\n",
       "            {\"showLink\": true, \"linkText\": \"Export to plot.ly\"}\n",
       "        ).then(function () {return Plotly.addFrames('fcb76e1e-9e41-4acc-b7fb-d94d3e76467e',{});}).then(function(){Plotly.animate('fcb76e1e-9e41-4acc-b7fb-d94d3e76467e');})\n",
       "        });</script>"
      ],
      "text/vnd.plotly.v1+html": [
       "<div id=\"fcb76e1e-9e41-4acc-b7fb-d94d3e76467e\" style=\"height: 600px; width: 600px;\" class=\"plotly-graph-div\"></div><script type=\"text/javascript\">require([\"plotly\"], function(Plotly) { window.PLOTLYENV=window.PLOTLYENV || {};window.PLOTLYENV.BASE_URL=\"https://plot.ly\";\n",
       "        Plotly.plot(\n",
       "            'fcb76e1e-9e41-4acc-b7fb-d94d3e76467e',\n",
       "            [{\"x\": [\"Signal A\", \"Signal B\", \"Signal C\"], \"y\": [\"Signal A\", \"Signal B\", \"Signal C\"], \"z\": [[1.0, 0.8, 0.3], [0.8, 1.0, 0.45], [0.3, 0.45, 1.0]], \"type\": \"heatmap\", \"uid\": \"884bc006-5935-11e9-94fb-c8d3ffec4c05\"}],\n",
       "            {\"height\": 600, \"title\": \"Correlation\", \"width\": 600},\n",
       "            {\"showLink\": true, \"linkText\": \"Export to plot.ly\"}\n",
       "        ).then(function () {return Plotly.addFrames('fcb76e1e-9e41-4acc-b7fb-d94d3e76467e',{});}).then(function(){Plotly.animate('fcb76e1e-9e41-4acc-b7fb-d94d3e76467e');})\n",
       "        });</script>"
      ]
     },
     "metadata": {},
     "output_type": "display_data"
    }
   ],
   "source": [
    "corr = np.array([[1.00, 0.80, 0.30], \n",
    "                 [0.80, 1.00, 0.45], \n",
    "                 [0.30, 0.45, 1.00]]) # 数据\n",
    "\n",
    "trace = go.Heatmap(\n",
    "    z = corr, # 将实际数据指定给z\n",
    "    x = ['Signal A', 'Signal B', 'Signal C'], # x轴\n",
    "    y = ['Signal A', 'Signal B', 'Signal C'], # y轴\n",
    ")\n",
    "\n",
    "layout = go.Layout(\n",
    "    title = 'Correlation',\n",
    "    height = 600,\n",
    "    width = 600,)\n",
    "\n",
    "fig = go.Figure(data=[trace], layout=layout) \n",
    "plotly.offline.iplot(fig) "
   ]
  },
  {
   "cell_type": "markdown",
   "metadata": {},
   "source": [
    "当然，我们还可以自定义标尺的颜色，并且通过添加注释(Annotations)的方式来选择是否显示系数。"
   ]
  },
  {
   "cell_type": "code",
   "execution_count": 28,
   "metadata": {},
   "outputs": [
    {
     "name": "stderr",
     "output_type": "stream",
     "text": [
      "D:\\Anaconda3\\lib\\site-packages\\plotly\\graph_objs\\_deprecations.py:66: DeprecationWarning:\n",
      "\n",
      "plotly.graph_objs.Annotations is deprecated.\n",
      "Please replace it with a list or tuple of instances of the following types\n",
      "  - plotly.graph_objs.layout.Annotations\n",
      "  - plotly.graph_objs.layout.scene.Annotations\n",
      "\n",
      "\n",
      "D:\\Anaconda3\\lib\\site-packages\\plotly\\graph_objs\\_deprecations.py:144: DeprecationWarning:\n",
      "\n",
      "plotly.graph_objs.Annotation is deprecated.\n",
      "Please replace it with one of the following more specific types\n",
      "  - plotly.graph_objs.layout.Annotation\n",
      "  - plotly.graph_objs.layout.scene.Annotation\n",
      "\n",
      "\n",
      "D:\\Anaconda3\\lib\\site-packages\\plotly\\graph_objs\\_deprecations.py:531: DeprecationWarning:\n",
      "\n",
      "plotly.graph_objs.XAxis is deprecated.\n",
      "Please replace it with one of the following more specific types\n",
      "  - plotly.graph_objs.layout.XAxis\n",
      "  - plotly.graph_objs.layout.scene.XAxis\n",
      "\n",
      "\n"
     ]
    },
    {
     "data": {
      "application/vnd.plotly.v1+json": {
       "data": [
        {
         "colorscale": [
          [
           0,
           "#00BB00"
          ],
          [
           0.5,
           "#DDDD00"
          ],
          [
           1,
           "#BB0000"
          ]
         ],
         "type": "heatmap",
         "uid": "89772ae4-5935-11e9-a95a-c8d3ffec4c05",
         "x": [
          "Signal A",
          "Signal B",
          "Signal C"
         ],
         "y": [
          "Signal A",
          "Signal B",
          "Signal C"
         ],
         "z": [
          [
           1,
           0.8,
           0.3
          ],
          [
           0.8,
           1,
           0.45
          ],
          [
           0.3,
           0.45,
           1
          ]
         ]
        }
       ],
       "layout": {
        "annotations": [
         {
          "font": {
           "color": "rgb(255, 255, 255)"
          },
          "showarrow": false,
          "text": "1.0",
          "x": "Signal A",
          "xref": "x",
          "y": "Signal A",
          "yref": "y"
         },
         {
          "font": {
           "color": "rgb(255, 255, 255)"
          },
          "showarrow": false,
          "text": "0.8",
          "x": "Signal A",
          "xref": "x",
          "y": "Signal B",
          "yref": "y"
         },
         {
          "font": {
           "color": "rgb(255, 255, 255)"
          },
          "showarrow": false,
          "text": "0.3",
          "x": "Signal A",
          "xref": "x",
          "y": "Signal C",
          "yref": "y"
         },
         {
          "font": {
           "color": "rgb(255, 255, 255)"
          },
          "showarrow": false,
          "text": "0.8",
          "x": "Signal B",
          "xref": "x",
          "y": "Signal A",
          "yref": "y"
         },
         {
          "font": {
           "color": "rgb(255, 255, 255)"
          },
          "showarrow": false,
          "text": "1.0",
          "x": "Signal B",
          "xref": "x",
          "y": "Signal B",
          "yref": "y"
         },
         {
          "font": {
           "color": "rgb(255, 255, 255)"
          },
          "showarrow": false,
          "text": "0.45",
          "x": "Signal B",
          "xref": "x",
          "y": "Signal C",
          "yref": "y"
         },
         {
          "font": {
           "color": "rgb(255, 255, 255)"
          },
          "showarrow": false,
          "text": "0.3",
          "x": "Signal C",
          "xref": "x",
          "y": "Signal A",
          "yref": "y"
         },
         {
          "font": {
           "color": "rgb(255, 255, 255)"
          },
          "showarrow": false,
          "text": "0.45",
          "x": "Signal C",
          "xref": "x",
          "y": "Signal B",
          "yref": "y"
         },
         {
          "font": {
           "color": "rgb(255, 255, 255)"
          },
          "showarrow": false,
          "text": "1.0",
          "x": "Signal C",
          "xref": "x",
          "y": "Signal C",
          "yref": "y"
         }
        ],
        "height": 600,
        "title": "Correlation",
        "width": 600,
        "xaxis": {
         "side": "top"
        }
       }
      },
      "text/html": [
       "<div id=\"69246d55-41ac-4eea-83f7-6aafc0ebe7e0\" style=\"height: 600px; width: 600px;\" class=\"plotly-graph-div\"></div><script type=\"text/javascript\">require([\"plotly\"], function(Plotly) { window.PLOTLYENV=window.PLOTLYENV || {};window.PLOTLYENV.BASE_URL=\"https://plot.ly\";\n",
       "        Plotly.plot(\n",
       "            '69246d55-41ac-4eea-83f7-6aafc0ebe7e0',\n",
       "            [{\"colorscale\": [[0, \"#00BB00\"], [0.5, \"#DDDD00\"], [1, \"#BB0000\"]], \"x\": [\"Signal A\", \"Signal B\", \"Signal C\"], \"y\": [\"Signal A\", \"Signal B\", \"Signal C\"], \"z\": [[1.0, 0.8, 0.3], [0.8, 1.0, 0.45], [0.3, 0.45, 1.0]], \"type\": \"heatmap\", \"uid\": \"89772ae4-5935-11e9-a95a-c8d3ffec4c05\"}],\n",
       "            {\"annotations\": [{\"font\": {\"color\": \"rgb(255, 255, 255)\"}, \"showarrow\": false, \"text\": \"1.0\", \"x\": \"Signal A\", \"xref\": \"x\", \"y\": \"Signal A\", \"yref\": \"y\"}, {\"font\": {\"color\": \"rgb(255, 255, 255)\"}, \"showarrow\": false, \"text\": \"0.8\", \"x\": \"Signal A\", \"xref\": \"x\", \"y\": \"Signal B\", \"yref\": \"y\"}, {\"font\": {\"color\": \"rgb(255, 255, 255)\"}, \"showarrow\": false, \"text\": \"0.3\", \"x\": \"Signal A\", \"xref\": \"x\", \"y\": \"Signal C\", \"yref\": \"y\"}, {\"font\": {\"color\": \"rgb(255, 255, 255)\"}, \"showarrow\": false, \"text\": \"0.8\", \"x\": \"Signal B\", \"xref\": \"x\", \"y\": \"Signal A\", \"yref\": \"y\"}, {\"font\": {\"color\": \"rgb(255, 255, 255)\"}, \"showarrow\": false, \"text\": \"1.0\", \"x\": \"Signal B\", \"xref\": \"x\", \"y\": \"Signal B\", \"yref\": \"y\"}, {\"font\": {\"color\": \"rgb(255, 255, 255)\"}, \"showarrow\": false, \"text\": \"0.45\", \"x\": \"Signal B\", \"xref\": \"x\", \"y\": \"Signal C\", \"yref\": \"y\"}, {\"font\": {\"color\": \"rgb(255, 255, 255)\"}, \"showarrow\": false, \"text\": \"0.3\", \"x\": \"Signal C\", \"xref\": \"x\", \"y\": \"Signal A\", \"yref\": \"y\"}, {\"font\": {\"color\": \"rgb(255, 255, 255)\"}, \"showarrow\": false, \"text\": \"0.45\", \"x\": \"Signal C\", \"xref\": \"x\", \"y\": \"Signal B\", \"yref\": \"y\"}, {\"font\": {\"color\": \"rgb(255, 255, 255)\"}, \"showarrow\": false, \"text\": \"1.0\", \"x\": \"Signal C\", \"xref\": \"x\", \"y\": \"Signal C\", \"yref\": \"y\"}], \"height\": 600, \"title\": \"Correlation\", \"width\": 600, \"xaxis\": {\"side\": \"top\"}},\n",
       "            {\"showLink\": true, \"linkText\": \"Export to plot.ly\"}\n",
       "        ).then(function () {return Plotly.addFrames('69246d55-41ac-4eea-83f7-6aafc0ebe7e0',{});}).then(function(){Plotly.animate('69246d55-41ac-4eea-83f7-6aafc0ebe7e0');})\n",
       "        });</script>"
      ],
      "text/vnd.plotly.v1+html": [
       "<div id=\"69246d55-41ac-4eea-83f7-6aafc0ebe7e0\" style=\"height: 600px; width: 600px;\" class=\"plotly-graph-div\"></div><script type=\"text/javascript\">require([\"plotly\"], function(Plotly) { window.PLOTLYENV=window.PLOTLYENV || {};window.PLOTLYENV.BASE_URL=\"https://plot.ly\";\n",
       "        Plotly.plot(\n",
       "            '69246d55-41ac-4eea-83f7-6aafc0ebe7e0',\n",
       "            [{\"colorscale\": [[0, \"#00BB00\"], [0.5, \"#DDDD00\"], [1, \"#BB0000\"]], \"x\": [\"Signal A\", \"Signal B\", \"Signal C\"], \"y\": [\"Signal A\", \"Signal B\", \"Signal C\"], \"z\": [[1.0, 0.8, 0.3], [0.8, 1.0, 0.45], [0.3, 0.45, 1.0]], \"type\": \"heatmap\", \"uid\": \"89772ae4-5935-11e9-a95a-c8d3ffec4c05\"}],\n",
       "            {\"annotations\": [{\"font\": {\"color\": \"rgb(255, 255, 255)\"}, \"showarrow\": false, \"text\": \"1.0\", \"x\": \"Signal A\", \"xref\": \"x\", \"y\": \"Signal A\", \"yref\": \"y\"}, {\"font\": {\"color\": \"rgb(255, 255, 255)\"}, \"showarrow\": false, \"text\": \"0.8\", \"x\": \"Signal A\", \"xref\": \"x\", \"y\": \"Signal B\", \"yref\": \"y\"}, {\"font\": {\"color\": \"rgb(255, 255, 255)\"}, \"showarrow\": false, \"text\": \"0.3\", \"x\": \"Signal A\", \"xref\": \"x\", \"y\": \"Signal C\", \"yref\": \"y\"}, {\"font\": {\"color\": \"rgb(255, 255, 255)\"}, \"showarrow\": false, \"text\": \"0.8\", \"x\": \"Signal B\", \"xref\": \"x\", \"y\": \"Signal A\", \"yref\": \"y\"}, {\"font\": {\"color\": \"rgb(255, 255, 255)\"}, \"showarrow\": false, \"text\": \"1.0\", \"x\": \"Signal B\", \"xref\": \"x\", \"y\": \"Signal B\", \"yref\": \"y\"}, {\"font\": {\"color\": \"rgb(255, 255, 255)\"}, \"showarrow\": false, \"text\": \"0.45\", \"x\": \"Signal B\", \"xref\": \"x\", \"y\": \"Signal C\", \"yref\": \"y\"}, {\"font\": {\"color\": \"rgb(255, 255, 255)\"}, \"showarrow\": false, \"text\": \"0.3\", \"x\": \"Signal C\", \"xref\": \"x\", \"y\": \"Signal A\", \"yref\": \"y\"}, {\"font\": {\"color\": \"rgb(255, 255, 255)\"}, \"showarrow\": false, \"text\": \"0.45\", \"x\": \"Signal C\", \"xref\": \"x\", \"y\": \"Signal B\", \"yref\": \"y\"}, {\"font\": {\"color\": \"rgb(255, 255, 255)\"}, \"showarrow\": false, \"text\": \"1.0\", \"x\": \"Signal C\", \"xref\": \"x\", \"y\": \"Signal C\", \"yref\": \"y\"}], \"height\": 600, \"title\": \"Correlation\", \"width\": 600, \"xaxis\": {\"side\": \"top\"}},\n",
       "            {\"showLink\": true, \"linkText\": \"Export to plot.ly\"}\n",
       "        ).then(function () {return Plotly.addFrames('69246d55-41ac-4eea-83f7-6aafc0ebe7e0',{});}).then(function(){Plotly.animate('69246d55-41ac-4eea-83f7-6aafc0ebe7e0');})\n",
       "        });</script>"
      ]
     },
     "metadata": {},
     "output_type": "display_data"
    }
   ],
   "source": [
    "corr = np.array([[1.00, 0.80, 0.30], \n",
    "                 [0.80, 1.00, 0.45], \n",
    "                 [0.30, 0.45, 1.00]]) # 数据\n",
    "x = ['Signal A', 'Signal B', 'Signal C'] # x轴\n",
    "y = ['Signal A', 'Signal B', 'Signal C'] # y轴\n",
    "\n",
    "colorscale = [[0, '#00BB00'],[0.5, '#DDDD00'], [1, '#BB0000']] # 颜色标尺，分别指定最低值、中间值和最高值对应的颜色\n",
    "\n",
    "trace = go.Heatmap(\n",
    "    z = corr,\n",
    "    x = x,\n",
    "    y = y,\n",
    "    colorscale = colorscale, # 这个参数用于设置颜色标尺\n",
    ")\n",
    "\n",
    "annotations = go.Annotations() # 添加注释\n",
    "for i in range(3):\n",
    "    for j in range(3):\n",
    "        annotations.append(\n",
    "            go.Annotation(\n",
    "                text = str(corr[i][j]), \n",
    "                font = dict(\n",
    "                    color='rgb(255, 255, 255)', # 修改注释颜色为白色\n",
    "                ),\n",
    "                x = x[i], \n",
    "                y = y[j], \n",
    "                xref = 'x', \n",
    "                yref = 'y', # 指定每个注释对应的位置 \n",
    "                showarrow = False))\n",
    "\n",
    "layout = go.Layout(\n",
    "    title = 'Correlation',\n",
    "    annotations = annotations, # 指定注释\n",
    "    xaxis = go.XAxis(side='top'), # 将x轴的标签至于顶部\n",
    "    height = 600,\n",
    "    width = 600,)\n",
    "\n",
    "fig = go.Figure(data=[trace], layout=layout) \n",
    "plotly.offline.iplot(fig) "
   ]
  }
 ],
 "metadata": {
  "kernelspec": {
   "display_name": "Python 3",
   "language": "python",
   "name": "python3"
  },
  "language_info": {
   "codemirror_mode": {
    "name": "ipython",
    "version": 3
   },
   "file_extension": ".py",
   "mimetype": "text/x-python",
   "name": "python",
   "nbconvert_exporter": "python",
   "pygments_lexer": "ipython3",
   "version": "3.6.3"
  }
 },
 "nbformat": 4,
 "nbformat_minor": 2
}
